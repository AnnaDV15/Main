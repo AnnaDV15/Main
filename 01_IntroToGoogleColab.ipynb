{
  "nbformat": 4,
  "nbformat_minor": 0,
  "metadata": {
    "colab": {
      "provenance": [],
      "include_colab_link": true
    },
    "kernelspec": {
      "name": "python3",
      "display_name": "Python 3"
    },
    "language_info": {
      "name": "python"
    }
  },
  "cells": [
    {
      "cell_type": "markdown",
      "metadata": {
        "id": "view-in-github",
        "colab_type": "text"
      },
      "source": [
        "<a href=\"https://colab.research.google.com/github/annadv15/annadv15/blob/main/01_IntroToGoogleColab.ipynb\" target=\"_parent\"><img src=\"https://colab.research.google.com/assets/colab-badge.svg\" alt=\"Open In Colab\"/></a>"
      ]
    },
    {
      "cell_type": "markdown",
      "source": [
        "# Introduction to Python\n",
        "*by Eugenio Cedric Corro*\n",
        "<br></br>\n",
        "\n",
        "**Outline**:\n",
        "- How to use Google Colaboratory (aka Google Colab) to run Jupyter Notebooks\n",
        "- Basics of Python Programming\n",
        "- Understanding Python Data Types\n",
        "\n",
        "**The following references were used to build this notebook's content:**\n",
        "- *Lutz, M. (2013). Learning python: Powerful object-oriented programming. \" O'Reilly Media, Inc.\".*\n",
        "- *Zelle, J. M. (2004). Python programming: an introduction to computer science. Franklin, Beedle & Associates, Inc..*"
      ],
      "metadata": {
        "id": "3OpepD22jRWe"
      }
    },
    {
      "cell_type": "markdown",
      "source": [
        "---"
      ],
      "metadata": {
        "id": "FKLzh3KulrGS"
      }
    },
    {
      "cell_type": "markdown",
      "source": [
        "## Introduction to Google Colaboratory (aka Google Colab)"
      ],
      "metadata": {
        "id": "Zjyf4O1ymIwC"
      }
    },
    {
      "cell_type": "markdown",
      "source": [
        "Please watch this [video](https://www.youtube.com/watch?v=inN8seMm7UI) to get started with Google Colab. After the video, a brief walkthrough on Google Colab's basic functions shall also be provided.\n",
        "\n",
        "**Google Colab website:** https://colab.research.google.com/\n",
        "\n",
        "**Basic things to learn:**\n",
        "- Opening a new Jupyter notebook\n",
        "- Loading an existing Jupyter notebook\n",
        "- Sharing a Jupyter notebook\n",
        "- Writing and running a code\n",
        "- Writing texts through *Markdown*"
      ],
      "metadata": {
        "id": "RnvgamOtm5wD"
      }
    },
    {
      "cell_type": "markdown",
      "source": [
        "# The `print` function"
      ],
      "metadata": {
        "id": "vkb97EldsWhb"
      }
    },
    {
      "cell_type": "code",
      "source": [
        "print(\"Hello world!\")"
      ],
      "metadata": {
        "id": "eWCNqAMnmy2M",
        "colab": {
          "base_uri": "https://localhost:8080/"
        },
        "outputId": "af84b0d1-2d49-45ce-a915-3828fc2f6320"
      },
      "execution_count": null,
      "outputs": [
        {
          "output_type": "stream",
          "name": "stdout",
          "text": [
            "Hello world!\n"
          ]
        }
      ]
    },
    {
      "cell_type": "markdown",
      "source": [
        "Printing multiple lines:"
      ],
      "metadata": {
        "id": "yXXWYz7QYNPp"
      }
    },
    {
      "cell_type": "code",
      "source": [
        "print(\"Hello world!\")\n",
        "print(\"Good morning!\")"
      ],
      "metadata": {
        "colab": {
          "base_uri": "https://localhost:8080/"
        },
        "id": "o76q5uZZcPDZ",
        "outputId": "5d17e309-e1c3-412d-946d-93d3e51b45c1"
      },
      "execution_count": null,
      "outputs": [
        {
          "output_type": "stream",
          "name": "stdout",
          "text": [
            "Hello world!\n",
            "Good morning!\n"
          ]
        }
      ]
    },
    {
      "cell_type": "code",
      "source": [
        "print(\"Hello world!\\nGood morning!\")"
      ],
      "metadata": {
        "colab": {
          "base_uri": "https://localhost:8080/"
        },
        "id": "P38FdxxOca3J",
        "outputId": "7cacc272-c5d9-42bf-be1e-b61e5c7f6b12"
      },
      "execution_count": null,
      "outputs": [
        {
          "output_type": "stream",
          "name": "stdout",
          "text": [
            "Hello world!\n",
            "Good morning!\n"
          ]
        }
      ]
    },
    {
      "cell_type": "markdown",
      "source": [
        "**TRY THIS!**\n",
        "Print the following statements:\n",
        "> First line\n",
        "> <br>Second line"
      ],
      "metadata": {
        "id": "83h_ReWd49ML"
      }
    },
    {
      "cell_type": "code",
      "source": [
        "# Write code here..."
      ],
      "metadata": {
        "id": "u5BujOI35kro"
      },
      "execution_count": null,
      "outputs": []
    },
    {
      "cell_type": "markdown",
      "source": [
        "---"
      ],
      "metadata": {
        "id": "2sloWS-CGEmT"
      }
    },
    {
      "cell_type": "markdown",
      "source": [
        "END OF FILE"
      ],
      "metadata": {
        "id": "gI-6zbJ0GHlj"
      }
    }
  ]
}