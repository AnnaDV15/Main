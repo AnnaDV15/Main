{
  "nbformat": 4,
  "nbformat_minor": 0,
  "metadata": {
    "colab": {
      "provenance": [],
      "include_colab_link": true
    },
    "kernelspec": {
      "name": "python3",
      "display_name": "Python 3"
    },
    "language_info": {
      "name": "python"
    }
  },
  "cells": [
    {
      "cell_type": "markdown",
      "metadata": {
        "id": "view-in-github",
        "colab_type": "text"
      },
      "source": [
        "<a href=\"https://colab.research.google.com/github/annadv15/annadv15/blob/main/Functions.ipynb\" target=\"_parent\"><img src=\"https://colab.research.google.com/assets/colab-badge.svg\" alt=\"Open In Colab\"/></a>"
      ]
    },
    {
      "cell_type": "markdown",
      "source": [
        "#Functions\n",
        "This notebook contains additional practice on functions. You will have 6 tasks for self-assessment. Do the tasks and run the cell to see the result. Then check the answers."
      ],
      "metadata": {
        "id": "cqP6ThCyh96z"
      }
    },
    {
      "cell_type": "markdown",
      "source": [
        "# Tasks\n"
      ],
      "metadata": {
        "id": "N3h2nhAPNkBh"
      }
    },
    {
      "cell_type": "markdown",
      "source": [
        "### Task 1\n",
        "\n",
        "Create a function called **greet** which will take a name and print the following greeting:\n",
        "\n",
        "\"Hello, {name}\""
      ],
      "metadata": {
        "id": "hxdJ4qjzWDE6"
      }
    },
    {
      "cell_type": "code",
      "source": [
        "# write your code here\n",
        "\n",
        "\n",
        "greet('Mary')\n",
        "greet('Juan')"
      ],
      "metadata": {
        "id": "iXe2coJpWEbJ"
      },
      "execution_count": null,
      "outputs": []
    },
    {
      "cell_type": "markdown",
      "source": [
        "### Task 2\n",
        "\n",
        "Create a function called **division_results** which takes 2 numbers and returns their quotent and the remainder in the following format:\n",
        "\n",
        "`quotent of {num1} and {num2} is {quotent}, remainder os {num1} and {num2} is {remainder}`"
      ],
      "metadata": {
        "id": "K19WevYMWGTS"
      }
    },
    {
      "cell_type": "code",
      "source": [
        "#write your code here\n",
        "\n",
        "\n",
        "print(division_result(10,2))\n",
        "print(division_result(15,4))"
      ],
      "metadata": {
        "id": "U7e53_R5WHwa"
      },
      "execution_count": null,
      "outputs": []
    },
    {
      "cell_type": "markdown",
      "source": [
        "### Task 3\n",
        "\n",
        "We are given a black-lisT of customers ids. Write a function called **check_customer** which takes `user_id` and checks if it belongs to the black list.\n",
        "\n",
        "Print \"**transaction recommended**\" if customer is not on the black list, and \"**transaction not recommended**\" if the customer is on the black list."
      ],
      "metadata": {
        "id": "VYkPeWSeWJZ7"
      }
    },
    {
      "cell_type": "code",
      "execution_count": null,
      "metadata": {
        "id": "O4VcjbH2WKxC"
      },
      "outputs": [],
      "source": [
        "black_list = [2,35,489,76,29,4,90,13,16,44,56,78]\n",
        "\n",
        "# write your code here\n",
        "\n",
        "\n",
        "check_customer(35)\n",
        "check_customer(98)"
      ]
    },
    {
      "cell_type": "markdown",
      "source": [
        "### Task 4\n",
        "\n",
        "Create a function called `fix_type` which takes a list. The function should iterate over it to change the type from str to float and append the resulting value to a new list. Our goal is to be able to find maximum and minimum values later.\n",
        "\n",
        "Use for-loop to iterate over list indexes, conditions and a type changing function."
      ],
      "metadata": {
        "id": "0yp8_x9zWMPM"
      }
    },
    {
      "cell_type": "code",
      "source": [
        "values = ['65.7', '187', 34, 42.87, '98', 72, '12.66', '23', '1982.9']\n",
        "\n",
        "# write your code here\n",
        "\n",
        "\n",
        "print(fix_type(values))\n",
        "print(max(fix_type(values)))\n",
        "print(min(fix_type(values)))\n",
        "\n",
        "\n"
      ],
      "metadata": {
        "id": "3owWLk_TWODP"
      },
      "execution_count": null,
      "outputs": []
    },
    {
      "cell_type": "markdown",
      "source": [
        "### Task 5\n",
        "\n",
        "Write a function called **insert_customer** which takes the following values: customer_id, marital_status, age, gender.\n",
        "\n",
        "The function should fill an empty dictionary, where customer_id is a key and other arguments saved as a value in a list.\n",
        "\n",
        "The function should also print *'customers updated'* ."
      ],
      "metadata": {
        "id": "GRUXKdj0WPR-"
      }
    },
    {
      "cell_type": "code",
      "source": [
        "customers = {}\n",
        "\n",
        "# write your function here\n",
        "\n",
        "\n",
        "insert_customer('id345', 'married', 34, 'male')\n",
        "insert_customer('id981', 'single', 26, 'female')\n",
        "\n",
        "print(customers)"
      ],
      "metadata": {
        "id": "aeZw---8WXCV"
      },
      "execution_count": null,
      "outputs": []
    },
    {
      "cell_type": "markdown",
      "source": [
        "### Task 6 *\n",
        "\n",
        "Create a function called **create_dictionary** which takes a list of values. The function should create a dictionary with ids starting from `id1` and the values from the list.\n",
        "\n",
        "The output should have the following structure:\n",
        "\n",
        "\n",
        "{'id1': 'value', 'id2': 'value'}"
      ],
      "metadata": {
        "id": "ZMp61CDAWZA3"
      }
    },
    {
      "cell_type": "code",
      "source": [
        "# write your code here\n",
        "\n",
        "\n",
        "print(create_dictionary(['apple', 'pie','apricot', 'watermellon']))\n",
        "print(create_dictionary(['red', 'blue', 'yellow', 'black', 'red', 'salmon','green', 'orange']))"
      ],
      "metadata": {
        "id": "KHf16yTUWbU7"
      },
      "execution_count": null,
      "outputs": []
    },
    {
      "cell_type": "markdown",
      "source": [
        "# Answer"
      ],
      "metadata": {
        "id": "VoIXN1punzEN"
      }
    },
    {
      "cell_type": "markdown",
      "source": [
        "### Task 1\n",
        "\n",
        "Create a function called **greet** which will take a name and print the following greeting:\n",
        "\n",
        "\"Hello, {name}\""
      ],
      "metadata": {
        "id": "Yf71f0YF72_Q"
      }
    },
    {
      "cell_type": "code",
      "source": [
        "# write your code here\n",
        "def greet(name):\n",
        "  print('Hello,', name)\n",
        "\n",
        "greet('Mary')\n",
        "greet('Juan')"
      ],
      "metadata": {
        "colab": {
          "base_uri": "https://localhost:8080/"
        },
        "id": "4Goz4YN88aUc",
        "outputId": "1b8acd2c-633e-4f04-8f87-6a2f504c6b4f"
      },
      "execution_count": null,
      "outputs": [
        {
          "output_type": "stream",
          "name": "stdout",
          "text": [
            "Hello, Mary\n",
            "Hello, Juan\n"
          ]
        }
      ]
    },
    {
      "cell_type": "markdown",
      "source": [
        "**Task explanation**\n",
        "In the first line we define the function using `dev` command. After the function name in parentheses, insert the name of the argument.\n",
        "\n",
        "\n",
        "```\n",
        "def greet(name):\n",
        "```\n",
        "Then, as we need to print the result, we use `print` function with 'Hello,' and `name` as arguments:\n",
        "```\n",
        "rint('Hello,', name)\n",
        "```\n",
        "\n"
      ],
      "metadata": {
        "id": "gt0xcCPd8sLL"
      }
    },
    {
      "cell_type": "markdown",
      "source": [
        "### Task 2\n",
        "\n",
        "Create a function called **division_results** which takes 2 numbers and returns their quotent and the remainder in the following format:\n",
        "\n",
        "`quotent of {num1} and {num2} is {quotent}, remainder os {num1} and {num2} is {remainder}`"
      ],
      "metadata": {
        "id": "LpHT7SqQv28o"
      }
    },
    {
      "cell_type": "code",
      "source": [
        "#write your code here\n",
        "def division_result(num1, num2):\n",
        "  quotent = num1 // num2\n",
        "  remainder = num1 % num2\n",
        "  result = f'quotent of {num1} and {num2} is {quotent}, remainder of {num1} and {num2} is {remainder}'\n",
        "  return result\n",
        "\n",
        "print(division_result(10,2))\n",
        "print(division_result(15,4))"
      ],
      "metadata": {
        "colab": {
          "base_uri": "https://localhost:8080/"
        },
        "id": "1cAn_SlGv2bE",
        "outputId": "8cdcc67d-06d7-49b5-9647-20fc92498440"
      },
      "execution_count": null,
      "outputs": [
        {
          "output_type": "stream",
          "name": "stdout",
          "text": [
            "quotent of 10 and 2 is 5, remainder os 10 and 2 is 0\n",
            "quotent of 15 and 4 is 3, remainder os 15 and 4 is 3\n"
          ]
        }
      ]
    },
    {
      "cell_type": "markdown",
      "source": [
        "**Task explanation**\n",
        "In the first line we define the function and insert two arguments in the parentheses:\n",
        "```\n",
        "def division_result(num1, num2):\n",
        "```\n",
        "In the body of the function we calculate the quotent, using `//` operator and assign it to a variable `quotent`. Next we assign the remainder, which we find using `%` operator, to a variable called `remainder`:\n",
        "```\n",
        "quotent = num1 // num2\n",
        "remainder = num1 % num2\n",
        "```\n",
        "As we are required to return the result in a certain string format, we will assign the f-string to the variable called result :\n",
        "```\n",
        "  result = f'quotent of {num1} and {num2} is {quotent}, remainder of {num1} and {num2} is {remainder}'\n",
        "```\n",
        "Then we return the resulting string:\n",
        "```\n",
        "return result\n",
        "```"
      ],
      "metadata": {
        "id": "cjbgGDKN7ue8"
      }
    },
    {
      "cell_type": "markdown",
      "source": [
        "### Task 3\n",
        "\n",
        "We are given a black-lisk of customers ids. Write a function called **check_customer** which takes `user_id` and checks if it belongs to the black list.\n",
        "\n",
        "Print \"**transaction recommended**\" if customer is not on the black list, and \"**transaction not recommended**\" if the customer is on the black list."
      ],
      "metadata": {
        "id": "fa00FISSn7Mk"
      }
    },
    {
      "cell_type": "code",
      "execution_count": null,
      "metadata": {
        "colab": {
          "base_uri": "https://localhost:8080/"
        },
        "id": "5Tl2eQOanoz-",
        "outputId": "64e204b1-b086-4ef9-bd92-98d30fc76813"
      },
      "outputs": [
        {
          "output_type": "stream",
          "name": "stdout",
          "text": [
            "transaction not recommended\n",
            "transaction recommended\n"
          ]
        }
      ],
      "source": [
        "black_list = [2,35,489,76,29,4,90,13,16,44,56,78]\n",
        "\n",
        "# write your code here\n",
        "def check_customer(id):\n",
        "  if id in black_list:\n",
        "    print('transaction not recommended')\n",
        "  else:\n",
        "    print('transaction recommended')\n",
        "\n",
        "check_customer(35)\n",
        "check_customer(98)"
      ]
    },
    {
      "cell_type": "markdown",
      "source": [
        "**Task explanation**\n",
        "In the first line we define the function and in the parentheses insert the argument placeholder:\n",
        "```\n",
        "def check_customer(id):\n",
        "```\n",
        "\n",
        "In the body of the function we insert the condition to check if the function argument is in the black_list, using `in` operator which checks if a value is included to the list:\n",
        "```\n",
        "if id in black_list:\n",
        "```\n",
        "If this condition is satisfied, we print that the transaction is recommended:\n",
        "```\n",
        "print('transaction not recommended')\n",
        "```\n",
        "In other cases, we'll print that the transaction is not recommended:\n",
        "```\n",
        "else:\n",
        "    print('transaction recommended')\n",
        "```\n"
      ],
      "metadata": {
        "id": "GZsU4FG5BS_Y"
      }
    },
    {
      "cell_type": "markdown",
      "source": [
        "### Task 4\n",
        "\n",
        "Create a function called `fix_type` which takes a list. The function should iterate over it to change the type from str to float and append the resulting value to a new list. Our goal is to be able to find maximum and minimum values later.\n",
        "\n",
        "Use for-loop to iterate over list indexes, conditions and a type changing function."
      ],
      "metadata": {
        "id": "zpZUyBtmt0Pq"
      }
    },
    {
      "cell_type": "code",
      "source": [
        "values = ['65.7', '187', 34, 42.87, '98', 72, '12.66', '23', '1982.9']\n",
        "\n",
        "# write your code here\n",
        "def fix_type(alist):\n",
        "  result = []\n",
        "  for i in range(len(values)):\n",
        "    if type(alist[i]) is str:\n",
        "      result.append(float(alist[i]))\n",
        "    else:\n",
        "      result.append(alist[i])\n",
        "  return result\n",
        "\n",
        "print(fix_type(values))\n",
        "print(max(fix_type(values)))\n",
        "print(min(fix_type(values)))\n",
        "\n",
        "\n"
      ],
      "metadata": {
        "colab": {
          "base_uri": "https://localhost:8080/"
        },
        "id": "kgdKjVVgaYd8",
        "outputId": "fe8790db-43cc-404b-982f-15b3ee448bdf"
      },
      "execution_count": null,
      "outputs": [
        {
          "output_type": "stream",
          "name": "stdout",
          "text": [
            "[65.7, 187.0, 34, 42.87, 98.0, 72, 12.66, 23.0, 1982.9]\n",
            "1982.9\n",
            "12.66\n"
          ]
        }
      ]
    },
    {
      "cell_type": "markdown",
      "source": [
        "**Task explanation**\n",
        "\n",
        "In the first line we define the function and in the parentheses introduce the argument:\n",
        "```\n",
        "def fix_type(alist):\n",
        "```\n",
        "In the body of the function we create an empty list, which we will fill in with the changed type:\n",
        "```\n",
        "result = []\n",
        "```\n",
        "To check each value in the list that the function takes, we will iterate over each value in it, using `for-loop`:\n",
        "```\n",
        "for i in range(len(values)):\n",
        "```\n",
        "\n",
        "Next we need to check if the values in the list the function takes is string using a condition and `type()` function:\n",
        "```\n",
        "if type(alist[i]) is str:\n",
        "```\n",
        "If this condition is satisfied, we will change the type to `float` using `float()` function and append this value to the resulting list:\n",
        "```\n",
        "result.append(float(alist[i]))\n",
        "```\n",
        "If this condition is not satisfied, we will append the value to the resulting list without changing anything:\n",
        "```\n",
        "else:\n",
        "      result.append(alist[i])\n",
        "```\n",
        "Then we will return the resulting list:\n",
        "```\n",
        "return result\n",
        "```"
      ],
      "metadata": {
        "id": "QbGIumOECdW2"
      }
    },
    {
      "cell_type": "markdown",
      "source": [
        "### Task 5\n",
        "\n",
        "Write a function called **insert_customer** which takes the following values: customer_id, marital_status, age, gender\n",
        "\n",
        "The function should fill an empty dictionary, where customer_id is a key and other arguments saved as a value in a list.\n",
        "\n",
        "The function should also print *'customers updated'*"
      ],
      "metadata": {
        "id": "qCfwOaVavjck"
      }
    },
    {
      "cell_type": "code",
      "source": [
        "customers = {}\n",
        "\n",
        "# write your function here\n",
        "def insert_customer(customer_id, marital_status, age, gender):\n",
        "  customers[customer_id] = [marital_status, age, gender]\n",
        "  print('customers updated')\n",
        "\n",
        "insert_customer('id345', 'married', 34, 'male')\n",
        "insert_customer('id981', 'single', 26, 'female')\n",
        "\n",
        "print(customers)"
      ],
      "metadata": {
        "colab": {
          "base_uri": "https://localhost:8080/"
        },
        "id": "RA0N-kykvhtD",
        "outputId": "dd432903-f969-4fd1-ec2e-2b624a915cc5"
      },
      "execution_count": null,
      "outputs": [
        {
          "output_type": "stream",
          "name": "stdout",
          "text": [
            "customers updated\n",
            "customers updated\n",
            "{'id345': ['married', 34, 'male'], 'id981': ['single', 26, 'female']}\n"
          ]
        }
      ]
    },
    {
      "cell_type": "markdown",
      "source": [
        "**Task explanation**\n",
        "\n",
        "In the first line we define the function with 4 arguments:\n",
        "```\n",
        "def insert_customer(customer_id, marital_status, age, gender):\n",
        "```\n",
        "In the body of the function we assign to the dictionary with `customer_id` key the list of other values:\n",
        "```\n",
        "customers[customer_id] = [marital_status, age, gender]\n",
        "```\n",
        "Then we print the status 'customer updated':\n",
        "```\n",
        "print('customers updated')\n",
        "```"
      ],
      "metadata": {
        "id": "gNUdAfYiH4sk"
      }
    },
    {
      "cell_type": "markdown",
      "source": [
        "### Task 6 *\n",
        "\n",
        "Create a function called **create_dictionary** which takes a list of values. The function should create a dictionary with ids starting from `id1` and the values from the list.\n",
        "\n",
        "The output should have the following structure:\n",
        "\n",
        "\n",
        "{'id1': 'value', 'id2': 'value'}"
      ],
      "metadata": {
        "id": "Ti2KWn2h2fsS"
      }
    },
    {
      "cell_type": "code",
      "source": [
        "# write your code here\n",
        "def create_dictionary(values):\n",
        "  result = {}\n",
        "  for i in range(len(values)):\n",
        "      result[f'id{i+1}'] = values[i]\n",
        "  return result\n",
        "\n",
        "print(create_dictionary(['apple', 'pie','apricot', 'watermellon']))\n",
        "print(create_dictionary(['red', 'blue', 'yellow', 'black', 'red', 'salmon','green', 'orange']))"
      ],
      "metadata": {
        "colab": {
          "base_uri": "https://localhost:8080/"
        },
        "id": "SWz-pLfN5Zi6",
        "outputId": "5bb7b690-a9f9-4468-926f-b97a8ccbe66d"
      },
      "execution_count": null,
      "outputs": [
        {
          "output_type": "stream",
          "name": "stdout",
          "text": [
            "{'id1': 'apple', 'id2': 'pie', 'id3': 'apricot', 'id4': 'watermellon'}\n",
            "{'id1': 'red', 'id2': 'blue', 'id3': 'yellow', 'id4': 'black', 'id5': 'red', 'id6': 'salmon', 'id7': 'green', 'id8': 'orange'}\n"
          ]
        }
      ]
    },
    {
      "cell_type": "markdown",
      "source": [
        "**Task explanation**\n",
        "\n",
        "In the first line we define the function:\n",
        "```\n",
        "def create_dictionary(values):\n",
        "```\n",
        "In the body of the function we create an empty dictionary:\n",
        "```\n",
        "result = {}\n",
        "```\n",
        "Then we need to iterate over the indexes of our list. We do it using for-loop and `range(len())` which stands for \"for every index up to the length of the list\":\n",
        "```\n",
        "for i in range(len(values)):\n",
        "```\n",
        "Then we put the value from the list under the index of the current iteration into the dictionary with key which presents a formated string. The key starts with id and then the index+1, because python indexes start with 0 and we need keys to start from 1:\n",
        "```\n",
        "result[f'id{i+1}'] = values[i]\n",
        "```\n",
        "Then after the for-loop we return the filled resulting dictionary:\n",
        "```\n",
        "return result\n",
        "```"
      ],
      "metadata": {
        "id": "Ywj4T6fYKYOB"
      }
    }
  ]
}