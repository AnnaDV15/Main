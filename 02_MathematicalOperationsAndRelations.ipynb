{
  "nbformat": 4,
  "nbformat_minor": 0,
  "metadata": {
    "colab": {
      "provenance": [],
      "include_colab_link": true
    },
    "kernelspec": {
      "name": "python3",
      "display_name": "Python 3"
    },
    "language_info": {
      "name": "python"
    }
  },
  "cells": [
    {
      "cell_type": "markdown",
      "metadata": {
        "id": "view-in-github",
        "colab_type": "text"
      },
      "source": [
        "<a href=\"https://colab.research.google.com/github/annadv15/annadv15/blob/main/02_MathematicalOperationsAndRelations.ipynb\" target=\"_parent\"><img src=\"https://colab.research.google.com/assets/colab-badge.svg\" alt=\"Open In Colab\"/></a>"
      ]
    },
    {
      "cell_type": "markdown",
      "source": [
        "# Introduction to Python\n",
        "*by Eugenio Cedric Corro*\n",
        "<br></br>\n",
        "\n",
        "**Outline**:\n",
        "- How to use Google Colaboratory (aka Google Colab) to run Jupyter Notebooks\n",
        "- Basics of Python Programming\n",
        "- Understanding Python Data Types\n",
        "\n",
        "**The following references were used to build this notebook's content:**\n",
        "- *Lutz, M. (2013). Learning python: Powerful object-oriented programming. \" O'Reilly Media, Inc.\".*\n",
        "- *Zelle, J. M. (2004). Python programming: an introduction to computer science. Franklin, Beedle & Associates, Inc..*"
      ],
      "metadata": {
        "id": "3OpepD22jRWe"
      }
    },
    {
      "cell_type": "markdown",
      "source": [
        "---"
      ],
      "metadata": {
        "id": "FKLzh3KulrGS"
      }
    },
    {
      "cell_type": "markdown",
      "source": [
        "# Mathematical Operations\n",
        "\n",
        "- **PEM(MD)(AS) rule**: order by which mathematical operations are performed\n",
        "    - Parenthesis\n",
        "    - Exponents\n",
        "    - Modulo, Multiplication and Division\n",
        "        - same order\n",
        "        - operations are performed whichever appears first from left to right\n",
        "$$15 \\div 5 \\times 2 = 3 \\times 2 = 6$$\n",
        "        - the **modulo** operation returns the remainder when a number is divided by another number\n",
        "$$20 \\ \\% \\ 8 = 4$$\n",
        "    - Addition and Subtraction\n",
        "        - same order\n",
        "        - operations are performed whichever appears first from left to right\n",
        "$$15 - 20 + 30 = -5 + 30 = 25$$\n",
        "\n",
        "**TIP:** Just use *parentheses* if you think a certain expression needs to be performed first."
      ],
      "metadata": {
        "id": "WO41ICKvNpKs"
      }
    },
    {
      "cell_type": "markdown",
      "source": [
        "#### EXAMPLE:"
      ],
      "metadata": {
        "id": "4l96tftmNxnO"
      }
    },
    {
      "cell_type": "markdown",
      "source": [
        "> $2 + 2$"
      ],
      "metadata": {
        "id": "9TigOtI1ZHlz"
      }
    },
    {
      "cell_type": "code",
      "source": [],
      "metadata": {
        "id": "RJFmmW2Wstib"
      },
      "execution_count": null,
      "outputs": []
    },
    {
      "cell_type": "markdown",
      "source": [
        "#### EXAMPLE:"
      ],
      "metadata": {
        "id": "1HUiFB-Mw-FV"
      }
    },
    {
      "cell_type": "markdown",
      "source": [
        "> $2 + 2 - 2 \\times 2 \\div 2$"
      ],
      "metadata": {
        "id": "EKTKG842ZUmV"
      }
    },
    {
      "cell_type": "markdown",
      "source": [
        "2 + 2 - 2 * 2 / 2\n",
        "\n",
        "2 + 2 - 4 / 2\n",
        "\n",
        "2 + 2 - 2\n",
        "\n",
        "4 - 2\n",
        "\n",
        "2"
      ],
      "metadata": {
        "id": "DU2DM-89goF8"
      }
    },
    {
      "cell_type": "code",
      "source": [],
      "metadata": {
        "id": "FBwGPpj1ciuq"
      },
      "execution_count": null,
      "outputs": []
    },
    {
      "cell_type": "markdown",
      "source": [
        "#### EXAMPLE:"
      ],
      "metadata": {
        "id": "bYhRjW9hxA0K"
      }
    },
    {
      "cell_type": "markdown",
      "source": [
        "> Getting the remainder when $20$ is divided by 7."
      ],
      "metadata": {
        "id": "Mo6ECHMiZfqU"
      }
    },
    {
      "cell_type": "code",
      "source": [],
      "metadata": {
        "id": "PB65OmOtciqi"
      },
      "execution_count": null,
      "outputs": []
    },
    {
      "cell_type": "markdown",
      "source": [
        "#### EXAMPLE:"
      ],
      "metadata": {
        "id": "0K6h5yG7xKqS"
      }
    },
    {
      "cell_type": "markdown",
      "source": [
        "> $2 \\times (3 + 5)^2 - (5 \\times 4)$"
      ],
      "metadata": {
        "id": "JnNyS_7pZnmc"
      }
    },
    {
      "cell_type": "markdown",
      "source": [
        "2 * (3 + 5)^2 - (5 * 4)\n",
        "\n",
        "2 * (8)^2 - (20)\n",
        "\n",
        "2 * 64 - 20\n",
        "\n",
        "128 - 20\n",
        "\n",
        "108"
      ],
      "metadata": {
        "id": "Rwai8LQqhHGT"
      }
    },
    {
      "cell_type": "code",
      "source": [],
      "metadata": {
        "id": "yGLkQlaNrl6N"
      },
      "execution_count": null,
      "outputs": []
    },
    {
      "cell_type": "markdown",
      "source": [
        "**TRY THIS!**\n",
        "> $\\frac{(2 - 2)^3}{5(3 - 2)}$"
      ],
      "metadata": {
        "id": "7RqfLKt3Oe46"
      }
    },
    {
      "cell_type": "code",
      "source": [
        "# Write your code here"
      ],
      "metadata": {
        "id": "5mSotKb0Oxqj"
      },
      "execution_count": null,
      "outputs": []
    },
    {
      "cell_type": "markdown",
      "source": [
        "**TRY THIS!**\n",
        "> Calculate the remainder when $315$ is divided by $18$."
      ],
      "metadata": {
        "id": "jyMGRkQkOxCR"
      }
    },
    {
      "cell_type": "code",
      "source": [
        "# Write your code here"
      ],
      "metadata": {
        "id": "8emgU-OfQH7c"
      },
      "execution_count": null,
      "outputs": []
    },
    {
      "cell_type": "markdown",
      "source": [
        "---"
      ],
      "metadata": {
        "id": "a6R7fq9fQKqk"
      }
    },
    {
      "cell_type": "markdown",
      "source": [
        "# Relational Operators\n",
        "\n",
        "These operators are crucial in decision-based algorithms. If a relation is true, the value `True` is returned. Otherwise, `False` is returned.\n",
        "\n",
        "**Relational Operators**\n",
        "\n",
        "| Relational operators <br>we know in Mathamatics \t| Python symbols \t| Example<br>of Python<br>condition \t| Meaning of<br>Python condition \t|\n",
        "|:-----------------------------------------------------------------:\t|:--------------------------------------------:\t|:---------------------------------:\t|:------------------------------:\t|\n",
        "|                                 >                                 \t|                       `>`                      \t|               `x > y`               \t|       `x` is greater than `y`      \t|\n",
        "|                                 <                                 \t|                      `<`                       \t|               `x < y`               \t|        `x` is less than `y`        \t|\n",
        "|                                 ≥                                 \t|                      `>=`                      \t|               `x >= y`              \t|  `x` is greater than or equal to `y`  \t|\n",
        "|                                 ≤                                 \t|                      `<=`                      \t|               `x <= y`              \t|  `x` is less than or equal to `y`  \t|\n",
        "|                                 =                                 \t|                      `==`                      \t|               `x == y`              \t|         `x` is equal to `y`        \t|\n",
        "|                                 ≠                                 \t|                    `!=`, `<>`                    \t|         `x != y`         \t|       `x` is not equal to `y`      \t|"
      ],
      "metadata": {
        "id": "q9App9HtoJSC"
      }
    },
    {
      "cell_type": "markdown",
      "source": [
        "#### EXAMPLE:"
      ],
      "metadata": {
        "id": "fn4QDHRROHsr"
      }
    },
    {
      "cell_type": "code",
      "source": [
        "5 > 5"
      ],
      "metadata": {
        "id": "VwUPzCruqQ_A",
        "colab": {
          "base_uri": "https://localhost:8080/"
        },
        "outputId": "9a6855bb-b4d7-442f-b8c6-01d9af5785ec"
      },
      "execution_count": null,
      "outputs": [
        {
          "output_type": "execute_result",
          "data": {
            "text/plain": [
              "False"
            ]
          },
          "metadata": {},
          "execution_count": 8
        }
      ]
    },
    {
      "cell_type": "code",
      "source": [
        "5 == 5"
      ],
      "metadata": {
        "id": "hchsFqTYbDJZ",
        "colab": {
          "base_uri": "https://localhost:8080/"
        },
        "outputId": "09b713c0-1807-4419-b7ad-737bce3f0502"
      },
      "execution_count": null,
      "outputs": [
        {
          "output_type": "execute_result",
          "data": {
            "text/plain": [
              "True"
            ]
          },
          "metadata": {},
          "execution_count": 9
        }
      ]
    },
    {
      "cell_type": "code",
      "source": [
        "5 >= 5"
      ],
      "metadata": {
        "id": "TFeQ3vqqbBAi",
        "colab": {
          "base_uri": "https://localhost:8080/"
        },
        "outputId": "cebdc744-21db-4e10-8c24-5719ff48fbbd"
      },
      "execution_count": null,
      "outputs": [
        {
          "output_type": "execute_result",
          "data": {
            "text/plain": [
              "True"
            ]
          },
          "metadata": {},
          "execution_count": 10
        }
      ]
    },
    {
      "cell_type": "markdown",
      "source": [
        "#### EXAMPLE:"
      ],
      "metadata": {
        "id": "8DR8ICV3ygJq"
      }
    },
    {
      "cell_type": "code",
      "source": [
        "if 6 > 5:\n",
        "    print(\"Correct!\")\n",
        "else:\n",
        "    print(\"Sorry!\")"
      ],
      "metadata": {
        "id": "uvcdOYifqQ4E",
        "colab": {
          "base_uri": "https://localhost:8080/"
        },
        "outputId": "b2e3ebf2-417b-46fb-8bd3-2978ab40299e"
      },
      "execution_count": null,
      "outputs": [
        {
          "output_type": "stream",
          "name": "stdout",
          "text": [
            "Correct!\n"
          ]
        }
      ]
    },
    {
      "cell_type": "markdown",
      "source": [
        "#### EXAMPLE:"
      ],
      "metadata": {
        "id": "vl7uIE2PyvQ8"
      }
    },
    {
      "cell_type": "code",
      "source": [
        "pw = 12345          # actual\n",
        "pw_input = 1234    # input\n",
        "\n",
        "if pw_input == pw:\n",
        "    print(\"Correct password!\")\n",
        "else:\n",
        "    print(\"Input password again!\")"
      ],
      "metadata": {
        "id": "QYgB2QJAqQvu",
        "colab": {
          "base_uri": "https://localhost:8080/"
        },
        "outputId": "da8850f7-dd42-4cd6-d5a7-c9a5b0ca3d60"
      },
      "execution_count": null,
      "outputs": [
        {
          "output_type": "stream",
          "name": "stdout",
          "text": [
            "Input password again!\n"
          ]
        }
      ]
    },
    {
      "cell_type": "markdown",
      "source": [
        "**TRY THIS!**\n",
        "> Write the Python script for the following expression\n",
        "$$ (2 * 8)^4 > 28^3$$\n",
        "and determine if it the resulting value is a `True` or a `False`."
      ],
      "metadata": {
        "id": "39z9sZvBBQMp"
      }
    },
    {
      "cell_type": "code",
      "source": [
        "# Write your code here"
      ],
      "metadata": {
        "id": "Grc3Dv6NCC57"
      },
      "execution_count": null,
      "outputs": []
    },
    {
      "cell_type": "markdown",
      "source": [
        "---"
      ],
      "metadata": {
        "id": "P7O4_BmiOKJc"
      }
    },
    {
      "cell_type": "markdown",
      "source": [
        "END OF FILE"
      ],
      "metadata": {
        "id": "gI-6zbJ0GHlj"
      }
    }
  ]
}