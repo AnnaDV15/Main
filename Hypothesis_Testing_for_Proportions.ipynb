{
  "nbformat": 4,
  "nbformat_minor": 0,
  "metadata": {
    "colab": {
      "provenance": [],
      "include_colab_link": true
    },
    "kernelspec": {
      "name": "python3",
      "display_name": "Python 3"
    },
    "language_info": {
      "name": "python"
    }
  },
  "cells": [
    {
      "cell_type": "markdown",
      "metadata": {
        "id": "view-in-github",
        "colab_type": "text"
      },
      "source": [
        "<a href=\"https://colab.research.google.com/github/annadv15/annadv15/blob/main/Hypothesis_Testing_for_Proportions.ipynb\" target=\"_parent\"><img src=\"https://colab.research.google.com/assets/colab-badge.svg\" alt=\"Open In Colab\"/></a>"
      ]
    },
    {
      "cell_type": "markdown",
      "source": [
        "# Lesson 3: Hypothesis Testing for Proportions"
      ],
      "metadata": {
        "id": "KYH-CHczo-UO"
      }
    },
    {
      "cell_type": "code",
      "execution_count": null,
      "metadata": {
        "id": "HoNJAEdFNT0U",
        "colab": {
          "base_uri": "https://localhost:8080/"
        },
        "outputId": "6277ddbd-c9d8-4aa0-a976-737fa1483dc0"
      },
      "outputs": [
        {
          "output_type": "stream",
          "name": "stdout",
          "text": [
            "Mounted at /content/drive\n"
          ]
        }
      ],
      "source": [
        "from google.colab import drive\n",
        "drive.mount('/content/drive')"
      ]
    },
    {
      "cell_type": "code",
      "source": [
        "import pandas as pd"
      ],
      "metadata": {
        "id": "89lij1XhW9ew"
      },
      "execution_count": null,
      "outputs": []
    },
    {
      "cell_type": "markdown",
      "source": [
        "Lesson Outline\n",
        "\n",
        "\n",
        "  1. Hypothesis Testing for Proportions\n",
        "    - One-Sample Binomial Test\n",
        "    - One-Sample Z-Test\n",
        "    - Chi-Squared Goodness of Fit Test\n",
        "\n",
        "  \n"
      ],
      "metadata": {
        "id": "CkR3vbmptyT7"
      }
    },
    {
      "cell_type": "markdown",
      "source": [
        "We now try find out whether a specified fraction of the population has a given property. We tackle two cases: small sample size and large sample size."
      ],
      "metadata": {
        "id": "8DPtzhmMYRpi"
      }
    },
    {
      "cell_type": "markdown",
      "source": [
        "## Example 1: Test if the employee attrition rate is more than 15%\n"
      ],
      "metadata": {
        "id": "6Y_xGB4YYnmc"
      }
    },
    {
      "cell_type": "markdown",
      "source": [
        "### Small Sample Size: Binomial Test\n",
        "\n",
        "For small sample sizes (n<30), we can calculate the p-value using a binomial distribution.\n",
        "\n",
        "A binomial distribution gives a probability on the number of successes in a sequence of independent experiments. In other words, it returns the probability that an experiment is a success $n$ times (e.g. probability to get $n$ heads after tossing a coin $N$ times)\n",
        "\n",
        "statsmodels has the [binom_test](https://www.statsmodels.org/dev/generated/statsmodels.stats.proportion.binom_test.html) function that can calculate this value.\n",
        "\n",
        "``` python\n",
        "p_val = statsmodels.stats.proportion.binom_test(count,\n",
        "                                                nobs,\n",
        "                                                prop=0.5,\n",
        "                                                alternative='two-sided')\n",
        "```\n",
        "\n"
      ],
      "metadata": {
        "id": "6gts3BYsYzam"
      }
    },
    {
      "cell_type": "markdown",
      "source": [
        "Let's load our dataset"
      ],
      "metadata": {
        "id": "xe0g6Z6pyKnd"
      }
    },
    {
      "cell_type": "code",
      "source": [
        "df = pd.read_csv('/content/drive/MyDrive/Module 6/L6 - Hypothesis Testing/hr_employee_attrition.csv')\n",
        "df.head()"
      ],
      "metadata": {
        "id": "e6bZEJoPyJbb",
        "colab": {
          "base_uri": "https://localhost:8080/",
          "height": 386
        },
        "outputId": "14cd04e9-7cca-4dce-91cd-743a61fc96e8"
      },
      "execution_count": null,
      "outputs": [
        {
          "output_type": "execute_result",
          "data": {
            "text/plain": [
              "   Age Attrition     BusinessTravel  DailyRate     DepartmentInCompany  \\\n",
              "0   41       Yes      Travel_Rarely       1102                   Sales   \n",
              "1  -49        No  Travel_Frequently        279  Research & Development   \n",
              "2    1       Yes      Travel_Rarely       1373  Research & Development   \n",
              "3    2        No  Travel_Frequently       1392  Research & Development   \n",
              "4   27        No      Travel_Rarely        591  Research & Development   \n",
              "\n",
              "   DistanceHome  Education           Educ  EmployeeNumber  \\\n",
              "0           1.0          2  Life Sciences               1   \n",
              "1           8.0          1  Life Sciences               2   \n",
              "2           2.0          2          Other               4   \n",
              "3           3.0          4  Life Sciences               5   \n",
              "4           2.0          1        Medical               7   \n",
              "\n",
              "   EnvironmentSatisfaction  ... PerformanceRating RelationshipSatisfaction  \\\n",
              "0                        2  ...                 3                        1   \n",
              "1                        3  ...                 4                        4   \n",
              "2                        4  ...                 3                        2   \n",
              "3                        4  ...                 3                        3   \n",
              "4                        1  ...                 3                        4   \n",
              "\n",
              "   StandardHours TotalWorkingYears  TrainingTimesLastYear  WorkLifeBalance  \\\n",
              "0             80                 8                      0                1   \n",
              "1             80                10                      3                3   \n",
              "2             80                 7                      3                3   \n",
              "3             80                 8                      3                3   \n",
              "4             80                 6                      3                3   \n",
              "\n",
              "  YearsAtCompany YearsInCurrentRole  YearsSinceLastPromotion  \\\n",
              "0              6                  4                        0   \n",
              "1             10                  7                        1   \n",
              "2              0                  0                        0   \n",
              "3              8                  7                        3   \n",
              "4              2                  2                        2   \n",
              "\n",
              "   YearsWithCurrManager  \n",
              "0                     5  \n",
              "1                     7  \n",
              "2                     0  \n",
              "3                     0  \n",
              "4                     2  \n",
              "\n",
              "[5 rows x 29 columns]"
            ],
            "text/html": [
              "\n",
              "  <div id=\"df-36b9d8e9-8c20-48c6-b3c7-5aa2ce1de1ba\">\n",
              "    <div class=\"colab-df-container\">\n",
              "      <div>\n",
              "<style scoped>\n",
              "    .dataframe tbody tr th:only-of-type {\n",
              "        vertical-align: middle;\n",
              "    }\n",
              "\n",
              "    .dataframe tbody tr th {\n",
              "        vertical-align: top;\n",
              "    }\n",
              "\n",
              "    .dataframe thead th {\n",
              "        text-align: right;\n",
              "    }\n",
              "</style>\n",
              "<table border=\"1\" class=\"dataframe\">\n",
              "  <thead>\n",
              "    <tr style=\"text-align: right;\">\n",
              "      <th></th>\n",
              "      <th>Age</th>\n",
              "      <th>Attrition</th>\n",
              "      <th>BusinessTravel</th>\n",
              "      <th>DailyRate</th>\n",
              "      <th>DepartmentInCompany</th>\n",
              "      <th>DistanceHome</th>\n",
              "      <th>Education</th>\n",
              "      <th>Educ</th>\n",
              "      <th>EmployeeNumber</th>\n",
              "      <th>EnvironmentSatisfaction</th>\n",
              "      <th>...</th>\n",
              "      <th>PerformanceRating</th>\n",
              "      <th>RelationshipSatisfaction</th>\n",
              "      <th>StandardHours</th>\n",
              "      <th>TotalWorkingYears</th>\n",
              "      <th>TrainingTimesLastYear</th>\n",
              "      <th>WorkLifeBalance</th>\n",
              "      <th>YearsAtCompany</th>\n",
              "      <th>YearsInCurrentRole</th>\n",
              "      <th>YearsSinceLastPromotion</th>\n",
              "      <th>YearsWithCurrManager</th>\n",
              "    </tr>\n",
              "  </thead>\n",
              "  <tbody>\n",
              "    <tr>\n",
              "      <th>0</th>\n",
              "      <td>41</td>\n",
              "      <td>Yes</td>\n",
              "      <td>Travel_Rarely</td>\n",
              "      <td>1102</td>\n",
              "      <td>Sales</td>\n",
              "      <td>1.0</td>\n",
              "      <td>2</td>\n",
              "      <td>Life Sciences</td>\n",
              "      <td>1</td>\n",
              "      <td>2</td>\n",
              "      <td>...</td>\n",
              "      <td>3</td>\n",
              "      <td>1</td>\n",
              "      <td>80</td>\n",
              "      <td>8</td>\n",
              "      <td>0</td>\n",
              "      <td>1</td>\n",
              "      <td>6</td>\n",
              "      <td>4</td>\n",
              "      <td>0</td>\n",
              "      <td>5</td>\n",
              "    </tr>\n",
              "    <tr>\n",
              "      <th>1</th>\n",
              "      <td>-49</td>\n",
              "      <td>No</td>\n",
              "      <td>Travel_Frequently</td>\n",
              "      <td>279</td>\n",
              "      <td>Research &amp; Development</td>\n",
              "      <td>8.0</td>\n",
              "      <td>1</td>\n",
              "      <td>Life Sciences</td>\n",
              "      <td>2</td>\n",
              "      <td>3</td>\n",
              "      <td>...</td>\n",
              "      <td>4</td>\n",
              "      <td>4</td>\n",
              "      <td>80</td>\n",
              "      <td>10</td>\n",
              "      <td>3</td>\n",
              "      <td>3</td>\n",
              "      <td>10</td>\n",
              "      <td>7</td>\n",
              "      <td>1</td>\n",
              "      <td>7</td>\n",
              "    </tr>\n",
              "    <tr>\n",
              "      <th>2</th>\n",
              "      <td>1</td>\n",
              "      <td>Yes</td>\n",
              "      <td>Travel_Rarely</td>\n",
              "      <td>1373</td>\n",
              "      <td>Research &amp; Development</td>\n",
              "      <td>2.0</td>\n",
              "      <td>2</td>\n",
              "      <td>Other</td>\n",
              "      <td>4</td>\n",
              "      <td>4</td>\n",
              "      <td>...</td>\n",
              "      <td>3</td>\n",
              "      <td>2</td>\n",
              "      <td>80</td>\n",
              "      <td>7</td>\n",
              "      <td>3</td>\n",
              "      <td>3</td>\n",
              "      <td>0</td>\n",
              "      <td>0</td>\n",
              "      <td>0</td>\n",
              "      <td>0</td>\n",
              "    </tr>\n",
              "    <tr>\n",
              "      <th>3</th>\n",
              "      <td>2</td>\n",
              "      <td>No</td>\n",
              "      <td>Travel_Frequently</td>\n",
              "      <td>1392</td>\n",
              "      <td>Research &amp; Development</td>\n",
              "      <td>3.0</td>\n",
              "      <td>4</td>\n",
              "      <td>Life Sciences</td>\n",
              "      <td>5</td>\n",
              "      <td>4</td>\n",
              "      <td>...</td>\n",
              "      <td>3</td>\n",
              "      <td>3</td>\n",
              "      <td>80</td>\n",
              "      <td>8</td>\n",
              "      <td>3</td>\n",
              "      <td>3</td>\n",
              "      <td>8</td>\n",
              "      <td>7</td>\n",
              "      <td>3</td>\n",
              "      <td>0</td>\n",
              "    </tr>\n",
              "    <tr>\n",
              "      <th>4</th>\n",
              "      <td>27</td>\n",
              "      <td>No</td>\n",
              "      <td>Travel_Rarely</td>\n",
              "      <td>591</td>\n",
              "      <td>Research &amp; Development</td>\n",
              "      <td>2.0</td>\n",
              "      <td>1</td>\n",
              "      <td>Medical</td>\n",
              "      <td>7</td>\n",
              "      <td>1</td>\n",
              "      <td>...</td>\n",
              "      <td>3</td>\n",
              "      <td>4</td>\n",
              "      <td>80</td>\n",
              "      <td>6</td>\n",
              "      <td>3</td>\n",
              "      <td>3</td>\n",
              "      <td>2</td>\n",
              "      <td>2</td>\n",
              "      <td>2</td>\n",
              "      <td>2</td>\n",
              "    </tr>\n",
              "  </tbody>\n",
              "</table>\n",
              "<p>5 rows × 29 columns</p>\n",
              "</div>\n",
              "      <button class=\"colab-df-convert\" onclick=\"convertToInteractive('df-36b9d8e9-8c20-48c6-b3c7-5aa2ce1de1ba')\"\n",
              "              title=\"Convert this dataframe to an interactive table.\"\n",
              "              style=\"display:none;\">\n",
              "        \n",
              "  <svg xmlns=\"http://www.w3.org/2000/svg\" height=\"24px\"viewBox=\"0 0 24 24\"\n",
              "       width=\"24px\">\n",
              "    <path d=\"M0 0h24v24H0V0z\" fill=\"none\"/>\n",
              "    <path d=\"M18.56 5.44l.94 2.06.94-2.06 2.06-.94-2.06-.94-.94-2.06-.94 2.06-2.06.94zm-11 1L8.5 8.5l.94-2.06 2.06-.94-2.06-.94L8.5 2.5l-.94 2.06-2.06.94zm10 10l.94 2.06.94-2.06 2.06-.94-2.06-.94-.94-2.06-.94 2.06-2.06.94z\"/><path d=\"M17.41 7.96l-1.37-1.37c-.4-.4-.92-.59-1.43-.59-.52 0-1.04.2-1.43.59L10.3 9.45l-7.72 7.72c-.78.78-.78 2.05 0 2.83L4 21.41c.39.39.9.59 1.41.59.51 0 1.02-.2 1.41-.59l7.78-7.78 2.81-2.81c.8-.78.8-2.07 0-2.86zM5.41 20L4 18.59l7.72-7.72 1.47 1.35L5.41 20z\"/>\n",
              "  </svg>\n",
              "      </button>\n",
              "      \n",
              "  <style>\n",
              "    .colab-df-container {\n",
              "      display:flex;\n",
              "      flex-wrap:wrap;\n",
              "      gap: 12px;\n",
              "    }\n",
              "\n",
              "    .colab-df-convert {\n",
              "      background-color: #E8F0FE;\n",
              "      border: none;\n",
              "      border-radius: 50%;\n",
              "      cursor: pointer;\n",
              "      display: none;\n",
              "      fill: #1967D2;\n",
              "      height: 32px;\n",
              "      padding: 0 0 0 0;\n",
              "      width: 32px;\n",
              "    }\n",
              "\n",
              "    .colab-df-convert:hover {\n",
              "      background-color: #E2EBFA;\n",
              "      box-shadow: 0px 1px 2px rgba(60, 64, 67, 0.3), 0px 1px 3px 1px rgba(60, 64, 67, 0.15);\n",
              "      fill: #174EA6;\n",
              "    }\n",
              "\n",
              "    [theme=dark] .colab-df-convert {\n",
              "      background-color: #3B4455;\n",
              "      fill: #D2E3FC;\n",
              "    }\n",
              "\n",
              "    [theme=dark] .colab-df-convert:hover {\n",
              "      background-color: #434B5C;\n",
              "      box-shadow: 0px 1px 3px 1px rgba(0, 0, 0, 0.15);\n",
              "      filter: drop-shadow(0px 1px 2px rgba(0, 0, 0, 0.3));\n",
              "      fill: #FFFFFF;\n",
              "    }\n",
              "  </style>\n",
              "\n",
              "      <script>\n",
              "        const buttonEl =\n",
              "          document.querySelector('#df-36b9d8e9-8c20-48c6-b3c7-5aa2ce1de1ba button.colab-df-convert');\n",
              "        buttonEl.style.display =\n",
              "          google.colab.kernel.accessAllowed ? 'block' : 'none';\n",
              "\n",
              "        async function convertToInteractive(key) {\n",
              "          const element = document.querySelector('#df-36b9d8e9-8c20-48c6-b3c7-5aa2ce1de1ba');\n",
              "          const dataTable =\n",
              "            await google.colab.kernel.invokeFunction('convertToInteractive',\n",
              "                                                     [key], {});\n",
              "          if (!dataTable) return;\n",
              "\n",
              "          const docLinkHtml = 'Like what you see? Visit the ' +\n",
              "            '<a target=\"_blank\" href=https://colab.research.google.com/notebooks/data_table.ipynb>data table notebook</a>'\n",
              "            + ' to learn more about interactive tables.';\n",
              "          element.innerHTML = '';\n",
              "          dataTable['output_type'] = 'display_data';\n",
              "          await google.colab.output.renderOutput(dataTable, element);\n",
              "          const docLink = document.createElement('div');\n",
              "          docLink.innerHTML = docLinkHtml;\n",
              "          element.appendChild(docLink);\n",
              "        }\n",
              "      </script>\n",
              "    </div>\n",
              "  </div>\n",
              "  "
            ]
          },
          "metadata": {},
          "execution_count": 3
        }
      ]
    },
    {
      "cell_type": "code",
      "source": [
        "df.Attrition.value_counts()"
      ],
      "metadata": {
        "id": "wrqMPxR9YwYZ",
        "colab": {
          "base_uri": "https://localhost:8080/"
        },
        "outputId": "446e8df0-633b-4889-9867-228596dfddff"
      },
      "execution_count": null,
      "outputs": [
        {
          "output_type": "execute_result",
          "data": {
            "text/plain": [
              "No     1234\n",
              "Yes     236\n",
              "Name: Attrition, dtype: int64"
            ]
          },
          "metadata": {},
          "execution_count": 4
        }
      ]
    },
    {
      "cell_type": "code",
      "source": [
        "resigned = df[df.Attrition=='Yes']\n",
        "not_resigned = df[df.Attrition=='No']"
      ],
      "metadata": {
        "id": "J7w5mI2zY9-Y"
      },
      "execution_count": null,
      "outputs": []
    },
    {
      "cell_type": "code",
      "source": [
        "print('Count of Resigned Employees:', len(resigned))\n",
        "print('Count of Remaining Employees:', len(not_resigned))\n",
        "print('Count of All Employees:', len(resigned)+len(not_resigned))\n",
        "print('Proportion of Resigned Employess:', len(resigned)/(len(resigned)+len(not_resigned)))"
      ],
      "metadata": {
        "id": "Z6PKM03YZTH-",
        "colab": {
          "base_uri": "https://localhost:8080/"
        },
        "outputId": "08173584-4188-4716-cbab-eaa7d03af041"
      },
      "execution_count": null,
      "outputs": [
        {
          "output_type": "stream",
          "name": "stdout",
          "text": [
            "Count of Resigned Employees: 236\n",
            "Count of Remaining Employees: 1234\n",
            "Count of All Employees: 1470\n",
            "Proportion of Resigned Employess: 0.16054421768707483\n"
          ]
        }
      ]
    },
    {
      "cell_type": "markdown",
      "source": [
        "We define the null and alternative hypothesis as follows:\n",
        "\n",
        "$H_0$: Fraction of Resigned Employees $\\leq 0.15$  \n",
        "$H_A$: Fraction of Resigned Employees $> 0.15$  \n",
        "\n",
        "We set our alpha to 0.05"
      ],
      "metadata": {
        "id": "sn5NSlfqZjp1"
      }
    },
    {
      "cell_type": "code",
      "source": [
        "from statsmodels.stats.proportion import binom_test"
      ],
      "metadata": {
        "id": "V8utjf4UfbdF"
      },
      "execution_count": null,
      "outputs": []
    },
    {
      "cell_type": "code",
      "source": [
        "alpha = 0.05\n",
        "p_val = binom_test(count=len(resigned),\n",
        "                   nobs=len(resigned)+len(not_resigned),\n",
        "                   prop=0.15,\n",
        "                   alternative='larger')\n",
        "\n",
        "print('p-value (one-sided):', p_val)"
      ],
      "metadata": {
        "id": "gWHW0wtrZu-M",
        "colab": {
          "base_uri": "https://localhost:8080/"
        },
        "outputId": "876bb341-8bd8-4612-b030-d6a98c81eb08"
      },
      "execution_count": null,
      "outputs": [
        {
          "output_type": "stream",
          "name": "stdout",
          "text": [
            "p-value (one-sided): 0.1369501423188985\n"
          ]
        }
      ]
    },
    {
      "cell_type": "code",
      "source": [
        "if p_val < alpha:\n",
        "    print (f'Reject the Null Hypothesis (alpha = {alpha}).')\n",
        "else:\n",
        "    print (f'Fail to Reject the Null Hypothesis (alpha = {alpha}).')"
      ],
      "metadata": {
        "id": "Pgs4wpxNaoeL",
        "colab": {
          "base_uri": "https://localhost:8080/"
        },
        "outputId": "063690b0-fd45-4aab-dc2d-b8353459ed90"
      },
      "execution_count": null,
      "outputs": [
        {
          "output_type": "stream",
          "name": "stdout",
          "text": [
            "Fail to Reject the Null Hypothesis (alpha = 0.05).\n"
          ]
        }
      ]
    },
    {
      "cell_type": "markdown",
      "source": [
        "Conclusion: There is not enough evidence to say that we have a 15% employee attrition rate"
      ],
      "metadata": {
        "id": "Dba38SD8auLo"
      }
    },
    {
      "cell_type": "markdown",
      "source": [
        "### Large Sample Size: Z-Test\n",
        "\n",
        "With larger sample sizes (n>30), the binomial distribution could be approximated by the normal distribution (see also: central limit theorem). With this, we can use the Z-test for proportions. We calculate the test statistic, z, then convert it to the corresponding p-value.\n",
        "\n",
        "If $N$ is our sample size, $N_q$ is the number of successes in our sample, and $q$ the population fraction we are testing, we can use the following equations:\n",
        "\n",
        "$\\hat{q} = \\frac{N_q}{N}$ <br>\n",
        "$\\sigma_{\\hat{q}} = \\sqrt{\\frac{q(1 - q)}{n}} $\n",
        "\n",
        "The test statistic, z, can then be taken below. We then calculate the corresponding p-value from this test statistic.\n",
        "\n",
        "$z = \\frac{\\hat{q} - q}{\\sigma_{\\hat{q}}}$\n",
        "\n",
        "<br>\n",
        "\n",
        "Similarly, statsmodels has the [proportions_ztest](https://www.statsmodels.org/dev/generated/statsmodels.stats.proportion.proportions_ztest.html) function that can calculate the p-value.\n",
        "\n",
        "``` python\n",
        "z_stat, p_val = statsmodels.stats.proportion.proportions_ztest(count,\n",
        "                                                               nobs,\n",
        "                                                               value=None,\n",
        "                                                               alternative='two-sided',\n",
        "                                                               prop_var=False)\n",
        "```\n",
        "\n"
      ],
      "metadata": {
        "id": "7GFVMoWRa1mV"
      }
    },
    {
      "cell_type": "code",
      "source": [
        "from statsmodels.stats.proportion import proportions_ztest"
      ],
      "metadata": {
        "id": "DfHPiqCVeLNw"
      },
      "execution_count": null,
      "outputs": []
    },
    {
      "cell_type": "code",
      "source": [
        "z_stat, p_val = proportions_ztest(count=len(resigned),\n",
        "                                  nobs=len(resigned)+len(not_resigned),\n",
        "                                  value=0.15,\n",
        "                                  alternative='larger',\n",
        "                                  prop_var=False)\n",
        "print('p-value (one-sided):', p_val)"
      ],
      "metadata": {
        "id": "VCGW7ztpdbx7",
        "colab": {
          "base_uri": "https://localhost:8080/"
        },
        "outputId": "30eb0e14-3aef-409e-e9ed-8f9a020ebfaa"
      },
      "execution_count": null,
      "outputs": [
        {
          "output_type": "stream",
          "name": "stdout",
          "text": [
            "p-value (one-sided): 0.1353989735075387\n"
          ]
        }
      ]
    },
    {
      "cell_type": "code",
      "source": [
        "if p_val < alpha:\n",
        "    print (f'Reject the Null Hypothesis (alpha = {alpha}).')\n",
        "else:\n",
        "    print (f'Fail to Reject the Null Hypothesis (alpha = {alpha}).')"
      ],
      "metadata": {
        "id": "5W12yPKreFyv",
        "colab": {
          "base_uri": "https://localhost:8080/"
        },
        "outputId": "68a109a2-2b69-4bc1-87ad-f42dd7797956"
      },
      "execution_count": null,
      "outputs": [
        {
          "output_type": "stream",
          "name": "stdout",
          "text": [
            "Fail to Reject the Null Hypothesis (alpha = 0.05).\n"
          ]
        }
      ]
    },
    {
      "cell_type": "markdown",
      "source": [
        "Conclusion: There is not enough evidence to say that we have a 15% employee attrition rate"
      ],
      "metadata": {
        "id": "3r-aXOEUiQAY"
      }
    },
    {
      "cell_type": "markdown",
      "source": [
        "## Tests for Categorical Data"
      ],
      "metadata": {
        "id": "hN-Lwj5NiQnA"
      }
    },
    {
      "cell_type": "markdown",
      "source": [
        "### Example 3: Test if the 3 ice cream flavor preference between all students are equal.\n",
        "\n",
        "In this example, we will utilize the Ice Cream dataset from the University of Sheffield. This data was collected on 200 high school students with scores on various tests, including a video game and a puzzle. The outcome measure in this analysis is the student’s favorite flavor of ice cream – vanilla, chocolate or strawberry.\n"
      ],
      "metadata": {
        "id": "0w6rB3_Oihnu"
      }
    },
    {
      "cell_type": "code",
      "source": [
        "df_icecream = pd.read_csv('/content/drive/MyDrive/Module 6/L6 - Hypothesis Testing/IceCream.csv')\n",
        "df_icecream.head()"
      ],
      "metadata": {
        "colab": {
          "base_uri": "https://localhost:8080/",
          "height": 206
        },
        "id": "K0-syMZcHzpi",
        "outputId": "81408740-d3c0-4374-e806-b526ce56f96e"
      },
      "execution_count": null,
      "outputs": [
        {
          "output_type": "execute_result",
          "data": {
            "text/plain": [
              "    id  female  ice_cream  video  puzzle\n",
              "0   70       0          2     47      57\n",
              "1  121       1          1     63      61\n",
              "2   86       0          3     58      31\n",
              "3  141       0          3     53      56\n",
              "4  172       0          1     53      61"
            ],
            "text/html": [
              "\n",
              "  <div id=\"df-397989e2-de60-443b-b316-a7f534e49147\">\n",
              "    <div class=\"colab-df-container\">\n",
              "      <div>\n",
              "<style scoped>\n",
              "    .dataframe tbody tr th:only-of-type {\n",
              "        vertical-align: middle;\n",
              "    }\n",
              "\n",
              "    .dataframe tbody tr th {\n",
              "        vertical-align: top;\n",
              "    }\n",
              "\n",
              "    .dataframe thead th {\n",
              "        text-align: right;\n",
              "    }\n",
              "</style>\n",
              "<table border=\"1\" class=\"dataframe\">\n",
              "  <thead>\n",
              "    <tr style=\"text-align: right;\">\n",
              "      <th></th>\n",
              "      <th>id</th>\n",
              "      <th>female</th>\n",
              "      <th>ice_cream</th>\n",
              "      <th>video</th>\n",
              "      <th>puzzle</th>\n",
              "    </tr>\n",
              "  </thead>\n",
              "  <tbody>\n",
              "    <tr>\n",
              "      <th>0</th>\n",
              "      <td>70</td>\n",
              "      <td>0</td>\n",
              "      <td>2</td>\n",
              "      <td>47</td>\n",
              "      <td>57</td>\n",
              "    </tr>\n",
              "    <tr>\n",
              "      <th>1</th>\n",
              "      <td>121</td>\n",
              "      <td>1</td>\n",
              "      <td>1</td>\n",
              "      <td>63</td>\n",
              "      <td>61</td>\n",
              "    </tr>\n",
              "    <tr>\n",
              "      <th>2</th>\n",
              "      <td>86</td>\n",
              "      <td>0</td>\n",
              "      <td>3</td>\n",
              "      <td>58</td>\n",
              "      <td>31</td>\n",
              "    </tr>\n",
              "    <tr>\n",
              "      <th>3</th>\n",
              "      <td>141</td>\n",
              "      <td>0</td>\n",
              "      <td>3</td>\n",
              "      <td>53</td>\n",
              "      <td>56</td>\n",
              "    </tr>\n",
              "    <tr>\n",
              "      <th>4</th>\n",
              "      <td>172</td>\n",
              "      <td>0</td>\n",
              "      <td>1</td>\n",
              "      <td>53</td>\n",
              "      <td>61</td>\n",
              "    </tr>\n",
              "  </tbody>\n",
              "</table>\n",
              "</div>\n",
              "      <button class=\"colab-df-convert\" onclick=\"convertToInteractive('df-397989e2-de60-443b-b316-a7f534e49147')\"\n",
              "              title=\"Convert this dataframe to an interactive table.\"\n",
              "              style=\"display:none;\">\n",
              "        \n",
              "  <svg xmlns=\"http://www.w3.org/2000/svg\" height=\"24px\"viewBox=\"0 0 24 24\"\n",
              "       width=\"24px\">\n",
              "    <path d=\"M0 0h24v24H0V0z\" fill=\"none\"/>\n",
              "    <path d=\"M18.56 5.44l.94 2.06.94-2.06 2.06-.94-2.06-.94-.94-2.06-.94 2.06-2.06.94zm-11 1L8.5 8.5l.94-2.06 2.06-.94-2.06-.94L8.5 2.5l-.94 2.06-2.06.94zm10 10l.94 2.06.94-2.06 2.06-.94-2.06-.94-.94-2.06-.94 2.06-2.06.94z\"/><path d=\"M17.41 7.96l-1.37-1.37c-.4-.4-.92-.59-1.43-.59-.52 0-1.04.2-1.43.59L10.3 9.45l-7.72 7.72c-.78.78-.78 2.05 0 2.83L4 21.41c.39.39.9.59 1.41.59.51 0 1.02-.2 1.41-.59l7.78-7.78 2.81-2.81c.8-.78.8-2.07 0-2.86zM5.41 20L4 18.59l7.72-7.72 1.47 1.35L5.41 20z\"/>\n",
              "  </svg>\n",
              "      </button>\n",
              "      \n",
              "  <style>\n",
              "    .colab-df-container {\n",
              "      display:flex;\n",
              "      flex-wrap:wrap;\n",
              "      gap: 12px;\n",
              "    }\n",
              "\n",
              "    .colab-df-convert {\n",
              "      background-color: #E8F0FE;\n",
              "      border: none;\n",
              "      border-radius: 50%;\n",
              "      cursor: pointer;\n",
              "      display: none;\n",
              "      fill: #1967D2;\n",
              "      height: 32px;\n",
              "      padding: 0 0 0 0;\n",
              "      width: 32px;\n",
              "    }\n",
              "\n",
              "    .colab-df-convert:hover {\n",
              "      background-color: #E2EBFA;\n",
              "      box-shadow: 0px 1px 2px rgba(60, 64, 67, 0.3), 0px 1px 3px 1px rgba(60, 64, 67, 0.15);\n",
              "      fill: #174EA6;\n",
              "    }\n",
              "\n",
              "    [theme=dark] .colab-df-convert {\n",
              "      background-color: #3B4455;\n",
              "      fill: #D2E3FC;\n",
              "    }\n",
              "\n",
              "    [theme=dark] .colab-df-convert:hover {\n",
              "      background-color: #434B5C;\n",
              "      box-shadow: 0px 1px 3px 1px rgba(0, 0, 0, 0.15);\n",
              "      filter: drop-shadow(0px 1px 2px rgba(0, 0, 0, 0.3));\n",
              "      fill: #FFFFFF;\n",
              "    }\n",
              "  </style>\n",
              "\n",
              "      <script>\n",
              "        const buttonEl =\n",
              "          document.querySelector('#df-397989e2-de60-443b-b316-a7f534e49147 button.colab-df-convert');\n",
              "        buttonEl.style.display =\n",
              "          google.colab.kernel.accessAllowed ? 'block' : 'none';\n",
              "\n",
              "        async function convertToInteractive(key) {\n",
              "          const element = document.querySelector('#df-397989e2-de60-443b-b316-a7f534e49147');\n",
              "          const dataTable =\n",
              "            await google.colab.kernel.invokeFunction('convertToInteractive',\n",
              "                                                     [key], {});\n",
              "          if (!dataTable) return;\n",
              "\n",
              "          const docLinkHtml = 'Like what you see? Visit the ' +\n",
              "            '<a target=\"_blank\" href=https://colab.research.google.com/notebooks/data_table.ipynb>data table notebook</a>'\n",
              "            + ' to learn more about interactive tables.';\n",
              "          element.innerHTML = '';\n",
              "          dataTable['output_type'] = 'display_data';\n",
              "          await google.colab.output.renderOutput(dataTable, element);\n",
              "          const docLink = document.createElement('div');\n",
              "          docLink.innerHTML = docLinkHtml;\n",
              "          element.appendChild(docLink);\n",
              "        }\n",
              "      </script>\n",
              "    </div>\n",
              "  </div>\n",
              "  "
            ]
          },
          "metadata": {},
          "execution_count": 13
        }
      ]
    },
    {
      "cell_type": "markdown",
      "source": [
        "### The $\\chi^2$ Goodness-of-Fit Test (chi-square)\n",
        "\n",
        "In the $\\chi^2$ Goodness-of-Fit Test, we aim to test if our sample distribution matches the population. Similar with the previous tests, we calculate a test statistic ($\\chi^2$) and use it the identify the corresponding p-value.\n",
        "\n",
        "Here, we calculate the observed frequencies ($O_i$) and compare each of them to the expected ($E_i$) using the following summation:\n",
        "\n",
        "$\\chi^2 = \\sum^K_{i = 1}\\frac{\\left(O_i - E_i\\right)^2}{E_i}$\n",
        "\n",
        "<br>\n",
        "\n",
        "scipy has the [chisquare](https://docs.scipy.org/doc/scipy/reference/generated/scipy.stats.chisquare.html) goodness of fit function that can calculate the p-value.\n",
        "\n",
        "``` python\n",
        "chi_sq, p_val = scipy.stats.chisquare(f_obs, f_exp=None, ddof=0, axis=0)\n",
        "```\n",
        "\n"
      ],
      "metadata": {
        "id": "ShronvvKifZ0"
      }
    },
    {
      "cell_type": "code",
      "source": [
        "from scipy.stats import chisquare"
      ],
      "metadata": {
        "id": "w8iMhKsElNbb"
      },
      "execution_count": null,
      "outputs": []
    },
    {
      "cell_type": "markdown",
      "source": [
        "We define the null and alternative hypothesis as follows:\n",
        "\n",
        "$H_0$: Distribution of students who prefer each ice cream flavor are equal  \n",
        "$H_A$: Distribution of students who prefer each ice cream flavor are Not Equal\n",
        "\n",
        "We set our alpha to 0.05"
      ],
      "metadata": {
        "id": "3K1VQ1_RnrCi"
      }
    },
    {
      "cell_type": "code",
      "source": [
        "obs = df_icecream.ice_cream.value_counts()\n",
        "n_obs = len(df_icecream)\n",
        "\n",
        "obs"
      ],
      "metadata": {
        "id": "OogxEdmdjpY_",
        "colab": {
          "base_uri": "https://localhost:8080/"
        },
        "outputId": "d19f3ec7-5e7a-4b64-cba0-d72c99c58e74"
      },
      "execution_count": null,
      "outputs": [
        {
          "output_type": "execute_result",
          "data": {
            "text/plain": [
              "1    95\n",
              "3    58\n",
              "2    47\n",
              "Name: ice_cream, dtype: int64"
            ]
          },
          "metadata": {},
          "execution_count": 15
        }
      ]
    },
    {
      "cell_type": "code",
      "source": [
        "print('Total students surveyed:', n_obs)"
      ],
      "metadata": {
        "id": "drhfkIKUmxRQ",
        "colab": {
          "base_uri": "https://localhost:8080/"
        },
        "outputId": "9fcd3306-0010-474c-f27b-c6db6f8c7a2b"
      },
      "execution_count": null,
      "outputs": [
        {
          "output_type": "stream",
          "name": "stdout",
          "text": [
            "Total students surveyed: 200\n"
          ]
        }
      ]
    },
    {
      "cell_type": "code",
      "source": [
        "alpha = 0.05\n",
        "f_obs = obs.values\n",
        "\n",
        "chi_sq, p_val = chisquare(f_obs=f_obs, f_exp=None) #None since we are checking if the distribution is equal\n",
        "\n",
        "print('p-value:', p_val)"
      ],
      "metadata": {
        "id": "KaYefR6Vjpna",
        "colab": {
          "base_uri": "https://localhost:8080/"
        },
        "outputId": "27a0fa29-b85d-4093-cc8c-f4dfb03cbf18"
      },
      "execution_count": null,
      "outputs": [
        {
          "output_type": "stream",
          "name": "stdout",
          "text": [
            "p-value: 7.598307042939823e-05\n"
          ]
        }
      ]
    },
    {
      "cell_type": "code",
      "source": [
        "if p_val < alpha:\n",
        "    print (f'Reject the Null Hypothesis (alpha = {alpha}).')\n",
        "else:\n",
        "    print (f'Fail to Reject the Null Hypothesis (alpha = {alpha}).')"
      ],
      "metadata": {
        "id": "955xjYQbnJrb",
        "colab": {
          "base_uri": "https://localhost:8080/"
        },
        "outputId": "896cef2d-bc5c-43e2-b49c-23a761c8b042"
      },
      "execution_count": null,
      "outputs": [
        {
          "output_type": "stream",
          "name": "stdout",
          "text": [
            "Reject the Null Hypothesis (alpha = 0.05).\n"
          ]
        }
      ]
    },
    {
      "cell_type": "markdown",
      "source": [
        "Conclusion: More students may like some ice cream flavors more than others."
      ],
      "metadata": {
        "id": "Uys4OsYWnKg7"
      }
    },
    {
      "cell_type": "markdown",
      "source": [
        "## Lesson Summary\n",
        "\n",
        "|               | Variables Compared                     | Function                                        |\n",
        "|---------------|----------------------------------------|-------------------------------------------------|\n",
        "| Binomial Test | 1 variable vs. Fixed Value (n<30)      | statsmodels.stats.proportion.binom_test         |\n",
        "| Z-Test        | 1 variable vs. Fixed Value (n>30)      | statsmodels.stats.proportion.proportions_ ztest |\n",
        "| $\\chi^2$ Test | 1 variable across different categories | scipy.stats.chisquare                           |"
      ],
      "metadata": {
        "id": "JlzNAy4YzI6C"
      }
    }
  ]
}