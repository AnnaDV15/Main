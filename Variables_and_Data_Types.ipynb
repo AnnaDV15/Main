{
  "nbformat": 4,
  "nbformat_minor": 0,
  "metadata": {
    "colab": {
      "provenance": [],
      "include_colab_link": true
    },
    "kernelspec": {
      "name": "python3",
      "display_name": "Python 3"
    },
    "language_info": {
      "name": "python"
    }
  },
  "cells": [
    {
      "cell_type": "markdown",
      "metadata": {
        "id": "view-in-github",
        "colab_type": "text"
      },
      "source": [
        "<a href=\"https://colab.research.google.com/github/annadv15/annadv15/blob/main/Variables_and_Data_Types.ipynb\" target=\"_parent\"><img src=\"https://colab.research.google.com/assets/colab-badge.svg\" alt=\"Open In Colab\"/></a>"
      ]
    },
    {
      "cell_type": "markdown",
      "source": [
        "# Variables and Data Types\n",
        "This notebook contains additional practice on variables and data types. You will have 12 tasks for self-assessment. For each task, see if you can predict the answer instead of just running the code. Then check the answer key."
      ],
      "metadata": {
        "id": "U4Qu-6sLguG5"
      }
    },
    {
      "cell_type": "markdown",
      "source": [
        "# Task 1\n",
        "\n",
        "For this task, you need to use the type() function to identify the types of the following objects.\n",
        "\n",
        "Before running the code, try to guess the types beforehand.\n",
        "\n",
        "1\n",
        "\n",
        "1.0\n",
        "\n",
        "\"name\"\n",
        "\n",
        "[1,2,3]\n",
        "\n",
        "(1,2,3)\n",
        "\n",
        "{\"one\":1}\n",
        "\n",
        "True\n",
        "\n"
      ],
      "metadata": {
        "id": "gebxw_VWRoik"
      }
    },
    {
      "cell_type": "code",
      "execution_count": null,
      "metadata": {
        "id": "P7v-507PROyH"
      },
      "outputs": [],
      "source": [
        "print(type(1))\n",
        "print(type(1.0))\n",
        "print(type(\"name\"))\n",
        "print(type([1,2,3]))\n",
        "print(type((1,2,3)))\n",
        "print(type({\"one\":1}))\n",
        "print(type(True))\n"
      ]
    },
    {
      "cell_type": "markdown",
      "source": [
        "# Task 2\n",
        "\n",
        "Create a list of the type of objects based on what you get in Task 1.\n",
        "\n",
        "Use the variable my_list\n",
        "\n"
      ],
      "metadata": {
        "id": "zOsP_BwEmLvP"
      }
    },
    {
      "cell_type": "code",
      "source": [
        "my_list = []"
      ],
      "metadata": {
        "id": "e2TyJjY-nD71"
      },
      "execution_count": null,
      "outputs": []
    },
    {
      "cell_type": "markdown",
      "source": [
        "#Task 3\n",
        "\n",
        "Use the .append method to add ‘set’ to the list you created in Task 2.\n",
        "\n",
        "To use a method, just attach it to the object you want to use it on.\n",
        "\n",
        "e.g. object_name.method_name()"
      ],
      "metadata": {
        "id": "4zxquzmInKCi"
      }
    },
    {
      "cell_type": "code",
      "source": [
        "my_list"
      ],
      "metadata": {
        "id": "JiYqTtr_nWi8"
      },
      "execution_count": null,
      "outputs": []
    },
    {
      "cell_type": "markdown",
      "source": [
        "#Task 4\n",
        "\n",
        "Use the .pop method to remove the last element ‘set’ which you just added."
      ],
      "metadata": {
        "id": "vN1qgM-anZiy"
      }
    },
    {
      "cell_type": "code",
      "source": [
        "my_list"
      ],
      "metadata": {
        "id": "JUIJPeucnjLg"
      },
      "execution_count": null,
      "outputs": []
    },
    {
      "cell_type": "markdown",
      "source": [
        "#Task 5\n",
        "\n",
        "Call the first, middle (4th), and last element of the list.\n",
        "\n",
        "To call any list element, just type the list name and then put the index (starting from 0) in brackets."
      ],
      "metadata": {
        "id": "tK7iIkEAnj1J"
      }
    },
    {
      "cell_type": "markdown",
      "source": [],
      "metadata": {
        "id": "Ov5cQosKkl9n"
      }
    },
    {
      "cell_type": "code",
      "source": [
        "my_list[]\n",
        "my_list[]\n",
        "my_list[]"
      ],
      "metadata": {
        "id": "vBi17IwPnvpR"
      },
      "execution_count": null,
      "outputs": []
    },
    {
      "cell_type": "markdown",
      "source": [
        "#Task 6\n",
        "\n",
        "Change the first list element to float and the second list element to int.\n",
        "\n",
        "To change a list element, start out as if you are calling it, but then add an equal sign and then assign a value to it like you would to a variable.\n",
        "\n",
        "e.g. list[i] = \"new value\""
      ],
      "metadata": {
        "id": "nMhGo1GnpkYJ"
      }
    },
    {
      "cell_type": "code",
      "source": [
        "my_list[0] =\n",
        "my_list[1] ="
      ],
      "metadata": {
        "id": "IMsALaNnq_8o"
      },
      "execution_count": null,
      "outputs": []
    },
    {
      "cell_type": "markdown",
      "source": [
        "# Task 7\n",
        "\n",
        "Now, for this task, you will create a dictionary instead of a list. They are quite similar, except you can change the index for dictionaries.\n",
        "\n",
        "Use the object types used in Task 1 as indices and use the example values as values.\n",
        "\n",
        "The first item is already filled in, please fill up the suceeding items."
      ],
      "metadata": {
        "id": "5bhSuyu4rE1W"
      }
    },
    {
      "cell_type": "code",
      "source": [
        "my_dict = {\"int\":1.0,}"
      ],
      "metadata": {
        "id": "b-WxlnN3tfUR"
      },
      "execution_count": null,
      "outputs": []
    },
    {
      "cell_type": "markdown",
      "source": [
        "#Task 8\n",
        "\n",
        "For this task, you will call upon a value stored in a dictionary. Doing so is very similar to calling a list element.\n",
        "\n",
        "Call the dictionary value with a corresponding index of \"dict\"."
      ],
      "metadata": {
        "id": "WSiJx4rktzCh"
      }
    },
    {
      "cell_type": "code",
      "source": [
        "my_dict[]"
      ],
      "metadata": {
        "id": "H_924wFKtyFs"
      },
      "execution_count": null,
      "outputs": []
    },
    {
      "cell_type": "markdown",
      "source": [
        "#Task 9\n",
        "\n",
        "For this task, you will change a value stored in a dictionary. Doing so, is very similar to changing a list element.\n",
        "\n",
        "Change the dictionary value indexed at \"int\" to 5.\n",
        "\n"
      ],
      "metadata": {
        "id": "ZYqk4Xletznw"
      }
    },
    {
      "cell_type": "code",
      "source": [
        "my_dict[] ="
      ],
      "metadata": {
        "id": "FaoaNQA2t0bM"
      },
      "execution_count": null,
      "outputs": []
    },
    {
      "cell_type": "markdown",
      "source": [
        "#Task 10\n",
        "\n",
        "Which is the correct way to type a boolean?\n",
        "\n",
        "Choices:\n",
        "\n",
        "a.) true\n",
        "\n",
        "b.) True\n",
        "\n",
        "c.) TRUE\n",
        "\n",
        "\n"
      ],
      "metadata": {
        "id": "VYxBGcgCvKZr"
      }
    },
    {
      "cell_type": "code",
      "source": [
        "true"
      ],
      "metadata": {
        "id": "aLtt6cVxv0H9"
      },
      "execution_count": null,
      "outputs": []
    },
    {
      "cell_type": "code",
      "source": [
        "True"
      ],
      "metadata": {
        "id": "vkRlv_61vz01"
      },
      "execution_count": null,
      "outputs": []
    },
    {
      "cell_type": "code",
      "source": [
        "TRUE"
      ],
      "metadata": {
        "id": "AVyKQ9XEvzgO"
      },
      "execution_count": null,
      "outputs": []
    },
    {
      "cell_type": "markdown",
      "source": [
        "#Task 11\n",
        "\n",
        "Identify the boolean value that will be outputted by the following expressions.\n",
        "\n",
        "9 >= 7\n",
        "\n",
        "5 == 3"
      ],
      "metadata": {
        "id": "PVamuZtNv6EX"
      }
    },
    {
      "cell_type": "code",
      "source": [
        "a = 9>=7\n",
        "b = 5==3"
      ],
      "metadata": {
        "id": "H0rScscuv5Yo"
      },
      "execution_count": null,
      "outputs": []
    },
    {
      "cell_type": "code",
      "source": [
        "print(a)\n",
        "print(b)"
      ],
      "metadata": {
        "id": "3EzvOpIdwNC8"
      },
      "execution_count": null,
      "outputs": []
    },
    {
      "cell_type": "markdown",
      "source": [
        "#Task 12\n",
        "\n",
        "For the final task convert the integer 2 to float and convert the float 123.456 to integer using the int() and float() functions.\n",
        "\n",
        "Print these values and see the difference.\n"
      ],
      "metadata": {
        "id": "qa6SBOW8wS9t"
      }
    },
    {
      "cell_type": "code",
      "source": [
        "float()\n",
        "int()"
      ],
      "metadata": {
        "id": "AMC7Ska0zyQv"
      },
      "execution_count": null,
      "outputs": []
    },
    {
      "cell_type": "code",
      "source": [
        "print()\n",
        "print()"
      ],
      "metadata": {
        "id": "AteBnWWs0C3X"
      },
      "execution_count": null,
      "outputs": []
    },
    {
      "cell_type": "markdown",
      "source": [
        "#Answer Key (Select Items)\n",
        "\n",
        "###Task 2\n",
        "\n",
        "my_list = ['int','float','str','list','tuple','dict','bool']\n",
        "\n",
        "###Task 3\n",
        "\n",
        "my_list.append('set')\n",
        "\n",
        "###Task 4\n",
        "\n",
        "my_list.pop(-1)\n",
        "\n",
        "###Task 5\n",
        "\n",
        "my_list[0] or my_list[-7]\n",
        "\n",
        "my_list[3] or my_list[-4]\n",
        "\n",
        "my_list[-1] or my_list[6]\n",
        "\n",
        "###Task 6\n",
        "\n",
        "my_list[0] = 'float'\n",
        "\n",
        "my_list[1] = 'int'\n",
        "\n",
        "###Task 7\n",
        "\n",
        "my_dict = {'int':1,'float':1.0,'str':\"name','list':[1,2,3],'tuple':(1,2,3),'dict':{\"one\":1},'bool':True}\n",
        "\n",
        "###Task 8\n",
        "\n",
        "my_dict['dict']\n",
        "\n",
        "###Task 9\n",
        "\n",
        "my_dict[\"int\"] = 5\n",
        "\n",
        "###Task 12\n",
        "\n",
        "print(float(2))\n",
        "\n",
        "print(int(123.456))\n"
      ],
      "metadata": {
        "id": "BPEmC8Y4txqX"
      }
    }
  ]
}