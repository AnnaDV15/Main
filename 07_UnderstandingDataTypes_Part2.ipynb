{
  "nbformat": 4,
  "nbformat_minor": 0,
  "metadata": {
    "colab": {
      "provenance": [],
      "include_colab_link": true
    },
    "kernelspec": {
      "name": "python3",
      "display_name": "Python 3"
    },
    "language_info": {
      "name": "python"
    }
  },
  "cells": [
    {
      "cell_type": "markdown",
      "metadata": {
        "id": "view-in-github",
        "colab_type": "text"
      },
      "source": [
        "<a href=\"https://colab.research.google.com/github/annadv15/annadv15/blob/main/07_UnderstandingDataTypes_Part2.ipynb\" target=\"_parent\"><img src=\"https://colab.research.google.com/assets/colab-badge.svg\" alt=\"Open In Colab\"/></a>"
      ]
    },
    {
      "cell_type": "markdown",
      "source": [
        "# Introduction to Python\n",
        "\n",
        "**Outline**:\n",
        "- How to use Google Colaboratory (aka Google Colab) to run Jupyter Notebooks\n",
        "- Basics of Python Programming\n",
        "- Understanding Python Data Types\n",
        "\n",
        "**The following references were used to build this notebook's content:**\n",
        "- *Lutz, M. (2013). Learning python: Powerful object-oriented programming. \" O'Reilly Media, Inc.\".*\n",
        "- *Zelle, J. M. (2004). Python programming: an introduction to computer science. Franklin, Beedle & Associates, Inc..*"
      ],
      "metadata": {
        "id": "3OpepD22jRWe"
      }
    },
    {
      "cell_type": "markdown",
      "source": [
        "---"
      ],
      "metadata": {
        "id": "FKLzh3KulrGS"
      }
    },
    {
      "cell_type": "markdown",
      "source": [
        "# Set\n",
        "\n",
        "A **set** is a collection of *distinct* values."
      ],
      "metadata": {
        "id": "2yHo0EIzyBF4"
      }
    },
    {
      "cell_type": "code",
      "source": [
        "set_sample = {1, 2, 3, 4, 5, 2}\n",
        "set_sample"
      ],
      "metadata": {
        "id": "DlvFDeyQyJXe",
        "colab": {
          "base_uri": "https://localhost:8080/"
        },
        "outputId": "c8c80ade-e64e-4a7f-ff04-f372c3d48c4a"
      },
      "execution_count": null,
      "outputs": [
        {
          "output_type": "execute_result",
          "data": {
            "text/plain": [
              "{1, 2, 3, 4, 5}"
            ]
          },
          "metadata": {},
          "execution_count": 1
        }
      ]
    },
    {
      "cell_type": "markdown",
      "source": [
        "As you can see in the example, the duplicate `2` is removed from the set `set_sample` because, by definition, the elements in a set must be distinct or non-repeating."
      ],
      "metadata": {
        "id": "G4xb63TOhmxB"
      }
    },
    {
      "cell_type": "markdown",
      "source": [
        "---"
      ],
      "metadata": {
        "id": "Odc_2q83uwh6"
      }
    },
    {
      "cell_type": "markdown",
      "metadata": {
        "id": "tFe-OK7rC4Lz"
      },
      "source": [
        "# Dictionary"
      ]
    },
    {
      "cell_type": "markdown",
      "metadata": {
        "ExecuteTime": {
          "end_time": "2021-08-06T12:21:32.666833Z",
          "start_time": "2021-08-06T12:21:32.655003Z"
        },
        "id": "BLObIJr2C4Lz"
      },
      "source": [
        "A **dictionary** can be seen as *mappings* where each *key* is mapped to a *value*, referred to as a **key-value pair**."
      ]
    },
    {
      "cell_type": "code",
      "metadata": {
        "ExecuteTime": {
          "end_time": "2021-08-06T12:24:08.475831Z",
          "start_time": "2021-08-06T12:24:08.458359Z"
        },
        "id": "fRkdz-plC4Lz",
        "outputId": "bcac30c9-1edb-46b8-f1c1-2f46f58b855a",
        "colab": {
          "base_uri": "https://localhost:8080/"
        }
      },
      "source": [
        "dict1 = {\"name\" : \"John\",\n",
        "         \"contact\" : \"8700-8700\",\n",
        "         \"address\" : \"Manila\"}\n",
        "dict1"
      ],
      "execution_count": null,
      "outputs": [
        {
          "output_type": "execute_result",
          "data": {
            "text/plain": [
              "{'name': 'John', 'contact': '8700-8700', 'address': 'Manila'}"
            ]
          },
          "metadata": {},
          "execution_count": 11
        }
      ]
    },
    {
      "cell_type": "markdown",
      "metadata": {
        "id": "B1pdf3oPC4Lz"
      },
      "source": [
        "*In the example, `name`, `contact` and `address` are keys while `John`, `8700-8700` and `Manila` are values.*"
      ]
    },
    {
      "cell_type": "markdown",
      "source": [
        "#### Accessing a value associated to a key."
      ],
      "metadata": {
        "id": "YK3QuN-DLWdw"
      }
    },
    {
      "cell_type": "code",
      "source": [
        "dict1[\"name\"]"
      ],
      "metadata": {
        "colab": {
          "base_uri": "https://localhost:8080/",
          "height": 35
        },
        "id": "MeZskDV8K-GZ",
        "outputId": "19e15a77-5cba-4bac-ebe9-5786b712b914"
      },
      "execution_count": null,
      "outputs": [
        {
          "output_type": "execute_result",
          "data": {
            "text/plain": [
              "'John'"
            ],
            "application/vnd.google.colaboratory.intrinsic+json": {
              "type": "string"
            }
          },
          "metadata": {},
          "execution_count": 8
        }
      ]
    },
    {
      "cell_type": "markdown",
      "metadata": {
        "id": "1qXxgpbTC4Lz"
      },
      "source": [
        "#### The value where a certain key is mapped to can be modified."
      ]
    },
    {
      "cell_type": "code",
      "metadata": {
        "ExecuteTime": {
          "end_time": "2021-08-06T16:01:43.477772Z",
          "start_time": "2021-08-06T16:01:43.464844Z"
        },
        "id": "q-G0WDHpC4Lz",
        "outputId": "101e8c73-dff9-44d5-f761-9954f9cb7421",
        "colab": {
          "base_uri": "https://localhost:8080/"
        }
      },
      "source": [
        "dict1[\"name\"] = \"Brian\"\n",
        "dict1"
      ],
      "execution_count": null,
      "outputs": [
        {
          "output_type": "execute_result",
          "data": {
            "text/plain": [
              "{'name': 'Brian', 'contact': '8700-8700', 'address': 'Manila'}"
            ]
          },
          "metadata": {},
          "execution_count": 9
        }
      ]
    },
    {
      "cell_type": "markdown",
      "metadata": {
        "ExecuteTime": {
          "end_time": "2021-08-06T16:03:50.735059Z",
          "start_time": "2021-08-06T16:03:50.729066Z"
        },
        "id": "m6P7f6owC4L0"
      },
      "source": [
        "#### The keys in a dictionary should be unique."
      ]
    },
    {
      "cell_type": "code",
      "metadata": {
        "ExecuteTime": {
          "end_time": "2021-08-06T16:04:35.392406Z",
          "start_time": "2021-08-06T16:04:35.377446Z"
        },
        "id": "vRlAiNlWC4L0",
        "outputId": "53960c9c-62d2-4263-f794-7c2f019deb0d",
        "colab": {
          "base_uri": "https://localhost:8080/"
        }
      },
      "source": [
        "dict2 = {\"pet\" : \"dog\", \"pet\" : \"cat\"} # In this case, the last value assigned to \"pet\" shall be the current value\n",
        "dict2"
      ],
      "execution_count": null,
      "outputs": [
        {
          "output_type": "execute_result",
          "data": {
            "text/plain": [
              "{'pet': 'cat'}"
            ]
          },
          "metadata": {},
          "execution_count": 12
        }
      ]
    },
    {
      "cell_type": "markdown",
      "metadata": {
        "ExecuteTime": {
          "end_time": "2021-08-06T16:07:29.052639Z",
          "start_time": "2021-08-06T16:07:29.035687Z"
        },
        "id": "s_Vu7ZCDC4L0"
      },
      "source": [
        "#### Keys must be of [immutable data types](https://towardsdatascience.com/https-towardsdatascience-com-python-basics-mutable-vs-immutable-objects-829a0cb1530a), such as integers, strings, float, or tuples."
      ]
    },
    {
      "cell_type": "code",
      "metadata": {
        "ExecuteTime": {
          "end_time": "2021-08-06T16:09:46.761075Z",
          "start_time": "2021-08-06T16:09:46.746116Z"
        },
        "id": "7iLW5Yk3C4L0",
        "outputId": "3ce83e6a-2203-436e-edd4-a178349afb17",
        "colab": {
          "base_uri": "https://localhost:8080/",
          "height": 166
        }
      },
      "source": [
        "dict3 = {{1,2} : \"value1\"} # This will result to an error because a set is not immutable."
      ],
      "execution_count": null,
      "outputs": [
        {
          "output_type": "error",
          "ename": "TypeError",
          "evalue": "ignored",
          "traceback": [
            "\u001b[0;31m---------------------------------------------------------------------------\u001b[0m",
            "\u001b[0;31mTypeError\u001b[0m                                 Traceback (most recent call last)",
            "\u001b[0;32m<ipython-input-17-ec7354bc3475>\u001b[0m in \u001b[0;36m<module>\u001b[0;34m\u001b[0m\n\u001b[0;32m----> 1\u001b[0;31m \u001b[0mdict3\u001b[0m \u001b[0;34m=\u001b[0m \u001b[0;34m{\u001b[0m\u001b[0;34m{\u001b[0m\u001b[0;36m1\u001b[0m\u001b[0;34m,\u001b[0m\u001b[0;36m2\u001b[0m\u001b[0;34m}\u001b[0m \u001b[0;34m:\u001b[0m \u001b[0;34m\"value1\"\u001b[0m\u001b[0;34m}\u001b[0m \u001b[0;31m# This will result to an error because a set is not immutable.\u001b[0m\u001b[0;34m\u001b[0m\u001b[0;34m\u001b[0m\u001b[0m\n\u001b[0m",
            "\u001b[0;31mTypeError\u001b[0m: unhashable type: 'set'"
          ]
        }
      ]
    },
    {
      "cell_type": "markdown",
      "source": [
        "---"
      ],
      "metadata": {
        "id": "9h6UgY5bu7LD"
      }
    },
    {
      "cell_type": "markdown",
      "source": [
        "# Tuple\n",
        "\n",
        "**Tuples** are like lists except that tuples are [immutable](https://towardsdatascience.com/https-towardsdatascience-com-python-basics-mutable-vs-immutable-objects-829a0cb1530a)."
      ],
      "metadata": {
        "id": "XaYDXbONlpaj"
      }
    },
    {
      "cell_type": "code",
      "metadata": {
        "ExecuteTime": {
          "end_time": "2021-08-06T17:07:52.454874Z",
          "start_time": "2021-08-06T17:07:52.448887Z"
        },
        "id": "BXiG48rtC4L1",
        "outputId": "e7eaf2ca-c272-4a8d-be38-599640cc6836",
        "colab": {
          "base_uri": "https://localhost:8080/"
        }
      },
      "source": [
        "tup1 = (1, 2, 3, 4, 5)\n",
        "tup1[2]"
      ],
      "execution_count": null,
      "outputs": [
        {
          "output_type": "execute_result",
          "data": {
            "text/plain": [
              "3"
            ]
          },
          "metadata": {},
          "execution_count": 19
        }
      ]
    },
    {
      "cell_type": "code",
      "metadata": {
        "ExecuteTime": {
          "end_time": "2021-08-06T17:08:50.228718Z",
          "start_time": "2021-08-06T17:08:50.223734Z"
        },
        "id": "CHJrpfCSC4L1",
        "outputId": "299bc8fc-31b7-42ea-cb80-b29ace58f4f7",
        "colab": {
          "base_uri": "https://localhost:8080/"
        }
      },
      "source": [
        "tup1[:2]"
      ],
      "execution_count": null,
      "outputs": [
        {
          "output_type": "execute_result",
          "data": {
            "text/plain": [
              "(1, 2)"
            ]
          },
          "metadata": {},
          "execution_count": 20
        }
      ]
    },
    {
      "cell_type": "code",
      "metadata": {
        "ExecuteTime": {
          "end_time": "2021-08-06T17:09:00.588133Z",
          "start_time": "2021-08-06T17:09:00.583173Z"
        },
        "id": "K_D4Umy8C4L1",
        "outputId": "0899d8a5-f2e0-415f-e3c9-31de11dcf490",
        "colab": {
          "base_uri": "https://localhost:8080/"
        }
      },
      "source": [
        "tup1[-1]"
      ],
      "execution_count": null,
      "outputs": [
        {
          "output_type": "execute_result",
          "data": {
            "text/plain": [
              "5"
            ]
          },
          "metadata": {},
          "execution_count": 21
        }
      ]
    },
    {
      "cell_type": "code",
      "metadata": {
        "ExecuteTime": {
          "end_time": "2021-08-06T17:09:22.094682Z",
          "start_time": "2021-08-06T17:09:22.090693Z"
        },
        "id": "WTk3koeGC4L1",
        "outputId": "f08056d8-3aca-4db8-bf8d-0eae4d2b0f0c",
        "colab": {
          "base_uri": "https://localhost:8080/"
        }
      },
      "source": [
        "tup1 + (6, 7, 8)"
      ],
      "execution_count": null,
      "outputs": [
        {
          "output_type": "execute_result",
          "data": {
            "text/plain": [
              "(1, 2, 3, 4, 5, 6, 7, 8)"
            ]
          },
          "metadata": {},
          "execution_count": 22
        }
      ]
    },
    {
      "cell_type": "code",
      "metadata": {
        "ExecuteTime": {
          "end_time": "2021-08-06T17:08:34.368599Z",
          "start_time": "2021-08-06T17:08:34.357593Z"
        },
        "id": "jPSJvBEUC4L1",
        "outputId": "7ff256b3-16de-48f9-ce75-f6c242e0451f",
        "colab": {
          "base_uri": "https://localhost:8080/",
          "height": 166
        }
      },
      "source": [
        "tup1[0] = 1 # This will show an error since a tuple is immutable."
      ],
      "execution_count": null,
      "outputs": [
        {
          "output_type": "error",
          "ename": "TypeError",
          "evalue": "ignored",
          "traceback": [
            "\u001b[0;31m---------------------------------------------------------------------------\u001b[0m",
            "\u001b[0;31mTypeError\u001b[0m                                 Traceback (most recent call last)",
            "\u001b[0;32m<ipython-input-23-4d596a352a64>\u001b[0m in \u001b[0;36m<module>\u001b[0;34m\u001b[0m\n\u001b[0;32m----> 1\u001b[0;31m \u001b[0mtup1\u001b[0m\u001b[0;34m[\u001b[0m\u001b[0;36m0\u001b[0m\u001b[0;34m]\u001b[0m \u001b[0;34m=\u001b[0m \u001b[0;36m1\u001b[0m \u001b[0;31m# This will show an error since a tuple is immutable.\u001b[0m\u001b[0;34m\u001b[0m\u001b[0;34m\u001b[0m\u001b[0m\n\u001b[0m",
            "\u001b[0;31mTypeError\u001b[0m: 'tuple' object does not support item assignment"
          ]
        }
      ]
    },
    {
      "cell_type": "markdown",
      "metadata": {
        "id": "Po-D6pMuC4L1"
      },
      "source": [
        "*For instances where you do not want your list of objects to be modified, you can use tuple instead of list*"
      ]
    },
    {
      "cell_type": "markdown",
      "source": [
        "---"
      ],
      "metadata": {
        "id": "3xKCd_eDu8sl"
      }
    },
    {
      "cell_type": "markdown",
      "source": [
        "# Type casting\n",
        "\n",
        "**Type casting** is the process of changing one data type to another, such as converting an integer into a float value."
      ],
      "metadata": {
        "id": "8pUmnjpff9cf"
      }
    },
    {
      "cell_type": "markdown",
      "source": [
        "#### EXAMPLES:"
      ],
      "metadata": {
        "id": "PU6r9HCpgj9F"
      }
    },
    {
      "cell_type": "markdown",
      "source": [
        "**String to Integer**"
      ],
      "metadata": {
        "id": "R3wmegxLgtkZ"
      }
    },
    {
      "cell_type": "code",
      "source": [
        "int('125')"
      ],
      "metadata": {
        "colab": {
          "base_uri": "https://localhost:8080/"
        },
        "id": "LWM4pwrWgtUl",
        "outputId": "7f68e525-9981-45ea-cd61-fe7da02e5e00"
      },
      "execution_count": null,
      "outputs": [
        {
          "output_type": "execute_result",
          "data": {
            "text/plain": [
              "125"
            ]
          },
          "metadata": {},
          "execution_count": 24
        }
      ]
    },
    {
      "cell_type": "markdown",
      "source": [
        "**Integer to Float**"
      ],
      "metadata": {
        "id": "I62nAZITgl_V"
      }
    },
    {
      "cell_type": "code",
      "source": [
        "float(1)"
      ],
      "metadata": {
        "colab": {
          "base_uri": "https://localhost:8080/"
        },
        "id": "puueDVJDgf1z",
        "outputId": "7272607e-ee9a-4bff-b492-f45ebaf5adb2"
      },
      "execution_count": null,
      "outputs": [
        {
          "output_type": "execute_result",
          "data": {
            "text/plain": [
              "1.0"
            ]
          },
          "metadata": {},
          "execution_count": 25
        }
      ]
    },
    {
      "cell_type": "markdown",
      "source": [
        "**List to Set**"
      ],
      "metadata": {
        "id": "8ODRKHGtg11u"
      }
    },
    {
      "cell_type": "code",
      "source": [
        "set([1, 2, 3, 4, 1])"
      ],
      "metadata": {
        "colab": {
          "base_uri": "https://localhost:8080/"
        },
        "id": "gM1LnMLxgsEj",
        "outputId": "5bb82dae-de7e-495c-cb40-675dd4375c32"
      },
      "execution_count": null,
      "outputs": [
        {
          "output_type": "execute_result",
          "data": {
            "text/plain": [
              "{1, 2, 3, 4}"
            ]
          },
          "metadata": {},
          "execution_count": 19
        }
      ]
    },
    {
      "cell_type": "markdown",
      "source": [
        "**Set to List**"
      ],
      "metadata": {
        "id": "7sklI9wgOCnD"
      }
    },
    {
      "cell_type": "code",
      "source": [
        "list({'dog', 'cat', 'fish', 'tiger'})"
      ],
      "metadata": {
        "colab": {
          "base_uri": "https://localhost:8080/"
        },
        "id": "Pu8SlRNON-zE",
        "outputId": "39978293-5412-49b0-e559-12fa7baeed8d"
      },
      "execution_count": null,
      "outputs": [
        {
          "output_type": "execute_result",
          "data": {
            "text/plain": [
              "['dog', 'fish', 'tiger', 'cat']"
            ]
          },
          "metadata": {},
          "execution_count": 26
        }
      ]
    },
    {
      "cell_type": "markdown",
      "source": [
        "---"
      ],
      "metadata": {
        "id": "2sloWS-CGEmT"
      }
    },
    {
      "cell_type": "markdown",
      "source": [
        "END OF FILE"
      ],
      "metadata": {
        "id": "gI-6zbJ0GHlj"
      }
    }
  ]
}